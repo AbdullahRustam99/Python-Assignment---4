{
  "nbformat": 4,
  "nbformat_minor": 0,
  "metadata": {
    "colab": {
      "provenance": []
    },
    "kernelspec": {
      "name": "python3",
      "display_name": "Python 3"
    },
    "language_info": {
      "name": "python"
    }
  },
  "cells": [
    {
      "cell_type": "markdown",
      "source": [
        "# **Project 4: Rock, paper, scissors Python Project [Colab Link](https://colab.research.google.com/drive/1WOKzPRhkbFk7Ivpd7ceRsxJg7o0mGJT8)**\n",
        "\n"
      ],
      "metadata": {
        "id": "eYztWCmV3rE-"
      }
    },
    {
      "cell_type": "code",
      "source": [
        "import random\n",
        "choice = [\"Rock\", \"Paper\",\"Scissor\"]\n",
        "\n",
        "print(\"Lets Play ROCK PAPER SCISSORS\")\n",
        "\n",
        "def question(turn):\n",
        "    while True:\n",
        "      user = input(f\"\\nEnter Your Choice {turn + 1} TURN (ROCK : PAPER : SCISSOR)  \")\n",
        "      if user != \"\":\n",
        "       return user.upper()\n",
        "      else:\n",
        "        print(\"\\n\\tPlease Enter Choice\")\n",
        "\n",
        "def game():\n",
        " while True:\n",
        "  for i in range(3):\n",
        "    user = question(i)\n",
        "    computer = random.choice(choice)\n",
        "    if user == \"ROCK\" and computer == \"Scissor\" or user == \"PAPER\" and computer == \"Rock\" or user == \"Scissor\" and computer == \"Paper\":\n",
        "      print(\"\\n\\tYou Win\")\n",
        "    elif user == computer:\n",
        "      print(\"\\n\\tTie\")\n",
        "    else:\n",
        "      print(\"\\n\\tYou Loss\")\n",
        "  playagain = input(\"\\nDo you want to play again (y/n)\")\n",
        "  if playagain.lower() == \"y\":\n",
        "    continue\n",
        "  else:\n",
        "    print(\"\\n\\tThanks For Playing\")\n",
        "    break\n",
        "\n",
        "\n",
        "game()\n",
        "\n"
      ],
      "metadata": {
        "id": "ssnpTN3F36pb",
        "colab": {
          "base_uri": "https://localhost:8080/"
        },
        "outputId": "bb6a8402-0e95-44cf-ef21-2f8df7a6f20a"
      },
      "execution_count": 21,
      "outputs": [
        {
          "output_type": "stream",
          "name": "stdout",
          "text": [
            "Lets Play ROCK PAPER SCISSORS\n",
            "\n",
            "Enter Your Choice 1 TURN (ROCK : PAPER : SCISSOR)  rock\n",
            "\n",
            "\tYou Win\n",
            "\n",
            "Enter Your Choice 2 TURN (ROCK : PAPER : SCISSOR)  Paper\n",
            "\n",
            "\tYou Loss\n",
            "\n",
            "Enter Your Choice 3 TURN (ROCK : PAPER : SCISSOR)  \n",
            "\n",
            "\tPlease Enter Choice\n",
            "\n",
            "Enter Your Choice 3 TURN (ROCK : PAPER : SCISSOR)  Scissor\n",
            "\n",
            "\tYou Loss\n",
            "\n",
            "Do you want to play again (y/n)y\n",
            "\n",
            "Enter Your Choice 1 TURN (ROCK : PAPER : SCISSOR)  Paper\n",
            "\n",
            "\tYou Win\n",
            "\n",
            "Enter Your Choice 2 TURN (ROCK : PAPER : SCISSOR)  Scissor\n",
            "\n",
            "\tYou Loss\n",
            "\n",
            "Enter Your Choice 3 TURN (ROCK : PAPER : SCISSOR)  rock\n",
            "\n",
            "\tYou Win\n",
            "\n",
            "Do you want to play again (y/n)n\n",
            "\n",
            "\tThanks For Playing\n"
          ]
        }
      ]
    }
  ]
}