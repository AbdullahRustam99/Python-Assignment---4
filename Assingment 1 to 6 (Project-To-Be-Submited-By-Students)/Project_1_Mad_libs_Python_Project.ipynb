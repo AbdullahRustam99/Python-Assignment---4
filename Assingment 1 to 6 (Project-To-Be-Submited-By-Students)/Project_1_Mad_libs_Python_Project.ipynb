{
  "nbformat": 4,
  "nbformat_minor": 0,
  "metadata": {
    "colab": {
      "provenance": []
    },
    "kernelspec": {
      "name": "python3",
      "display_name": "Python 3"
    },
    "language_info": {
      "name": "python"
    }
  },
  "cells": [
    {
      "cell_type": "markdown",
      "source": [
        "# **Project 1: Mad libs Python Project**\n",
        "\n"
      ],
      "metadata": {
        "id": "eYztWCmV3rE-"
      }
    },
    {
      "cell_type": "code",
      "source": [
        "import random\n",
        "def ask_question():\n",
        "   while True:\n",
        "    noun = input(\"Enter a Noun : \")\n",
        "    verb = input(\"Enter a Verb : \")\n",
        "    adjective = input(\"Enter an Adjective : \")\n",
        "    place  = input(\"Enter a Place : \")\n",
        "    if noun == \"\" or verb == \"\" or adjective == \"\" or place == \"\":\n",
        "        print(\"\\n\\tPlease Give Answer of all!\")\n",
        "    else:\n",
        "      return noun, verb, adjective, place\n",
        "\n",
        "\n",
        "def generate_story(noun,verb,place,adjective):\n",
        "  stories = [\n",
        "        f\"\"\"One day, a {adjective} {noun} wandered into {place}.\n",
        "It was looking for something exciting to do.\n",
        "Suddenly, it decided to {verb} right in the middle of the crowd!\n",
        "People laughed and cheered at the amazing sight.\n",
        "From that day on, {noun} became famous in {place}\"\"\",\n",
        "\n",
        "        f\"\"\"n {place}, a {adjective} {noun} was feeling bored.\n",
        "It thought, ‘Why not {verb} for fun?’\n",
        "The idea seemed strange, but it gave it a try.\n",
        "Everyone who saw it was completely surprised.\n",
        "Now, the {noun} is known as the most daring one in {place}!\"\"\",\n",
        "\n",
        "        f\"\"\"The annual festival in {place} was going well,\n",
        "until a {adjective} {noun} decided to {verb} on stage!\n",
        "At first, people were confused, then they burst into laughter.\n",
        "It was the most unforgettable moment of the event.\n",
        "Now, the {noun} is the star of every festival!\"\"\",\n",
        "\n",
        "        f\"\"\"A {adjective} {noun} was walking through {place}.\n",
        "Suddenly, it heard a strange noise.\n",
        "Curious, it decided to {verb} and investigate.\n",
        "To its surprise, it discovered a hidden treasure!\n",
        "Now, the {noun} is the town’s biggest hero.\"\"\",\n",
        "\n",
        "        f\"\"\"Nobody expected a {adjective} {noun} to {verb} in {place}.\n",
        "But when it did, everyone was amazed!\n",
        "The news spread across the whole city.\n",
        "Reporters came to witness the unbelievable act.\n",
        "Now, the {noun} holds a world record!\"\"\"\n",
        "    ]\n",
        "  story = random.choice(stories)\n",
        "  print(\"\\n\",story)\n",
        "\n",
        "\n",
        "def main():\n",
        "        noun, verb, adjective, place = ask_question()\n",
        "        generate_story(noun, verb, place, adjective)\n",
        "\n",
        "        while True:\n",
        "            moreStori = input(\"\\n\\tWant to generate more story? y/n : \")\n",
        "            if moreStori.lower() == \"y\":\n",
        "                noun, verb, adjective, place = ask_question()\n",
        "                generate_story(noun, verb, place, adjective)\n",
        "            else:\n",
        "                print(\"Thanks! Good By\")\n",
        "                break\n",
        "\n",
        "if __name__ == \"__main__\":\n",
        "    main()\n"
      ],
      "metadata": {
        "colab": {
          "base_uri": "https://localhost:8080/"
        },
        "id": "ssnpTN3F36pb",
        "outputId": "5d57faaa-98df-4d33-916d-f7af49b589cf"
      },
      "execution_count": 15,
      "outputs": [
        {
          "output_type": "stream",
          "name": "stdout",
          "text": [
            "Enter a Noun : \n",
            "Enter a Verb : \n",
            "Enter an Adjective : \n",
            "Enter a Place : \n",
            "\n",
            "\tPlease Give Answer of all!\n",
            "Enter a Noun : Dog\n",
            "Enter a Verb : Barked\n",
            "Enter an Adjective : Loudly\n",
            "Enter a Place : Street\n",
            "\n",
            " Nobody expected a Loudly Dog to Barked in Street.\n",
            "But when it did, everyone was amazed!\n",
            "The news spread across the whole city.\n",
            "Reporters came to witness the unbelievable act.\n",
            "Now, the Dog holds a world record!\n",
            "\n",
            "\tWant to generate more story? y/n : y\n",
            "Enter a Noun : Singer\n",
            "Enter a Verb : Sing\n",
            "Enter an Adjective : Sweetly\n",
            "Enter a Place : Stage\n",
            "\n",
            " The annual festival in Stage was going well,\n",
            "until a Sweetly Singer decided to Sing on stage!\n",
            "At first, people were confused, then they burst into laughter.\n",
            "It was the most unforgettable moment of the event.\n",
            "Now, the Singer is the star of every festival!\n",
            "\n",
            "\tWant to generate more story? y/n : n\n",
            "Thanks! Good By\n"
          ]
        }
      ]
    }
  ]
}