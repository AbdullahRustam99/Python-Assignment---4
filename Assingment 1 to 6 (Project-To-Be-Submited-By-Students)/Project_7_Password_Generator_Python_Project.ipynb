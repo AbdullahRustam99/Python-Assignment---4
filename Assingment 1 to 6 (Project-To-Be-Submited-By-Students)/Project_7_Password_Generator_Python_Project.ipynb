{
  "nbformat": 4,
  "nbformat_minor": 0,
  "metadata": {
    "colab": {
      "provenance": []
    },
    "kernelspec": {
      "name": "python3",
      "display_name": "Python 3"
    },
    "language_info": {
      "name": "python"
    }
  },
  "cells": [
    {
      "cell_type": "markdown",
      "source": [
        "# **Project 7: Password Generator Python Project [Colab Link](https://colab.research.google.com/drive/1GPRuBSL4Nz_K-4xwZg5g1mrkFW8i7ijt)**\n",
        "\n"
      ],
      "metadata": {
        "id": "eYztWCmV3rE-"
      }
    },
    {
      "cell_type": "code",
      "source": [
        "import random\n",
        "import string\n",
        "\n",
        "def generate_password(length):\n",
        "    letters = string.ascii_uppercase\n",
        "    digits = string.digits\n",
        "    special_characters = string.punctuation\n",
        "    all_characters = letters + digits + special_characters\n",
        "\n",
        "    password = ''.join(random.choice(all_characters) for _ in range(length))\n",
        "    return password\n",
        "\n",
        "def main():\n",
        "  while True:\n",
        "    length = int(input(\"\\nEnter the desired length of the password: \"))\n",
        "    if length < 6:\n",
        "        print(\"\\nPassword Length Must Be garter then 6\")\n",
        "        continue\n",
        "    else:\n",
        "      password = generate_password(length)\n",
        "      print(\"\\nGenerated Password:\", password)\n",
        "      choice = input(\"\\nDo you want to generate another password? (y/n): \")\n",
        "      if choice.lower() == \"n\":\n",
        "        break\n",
        "\n",
        "if __name__ == \"__main__\":\n",
        "        main()\n"
      ],
      "metadata": {
        "colab": {
          "base_uri": "https://localhost:8080/"
        },
        "id": "DiN7IkxrJ4md",
        "outputId": "5f25c70a-7b1f-4a29-fcbf-c46d1af238e0"
      },
      "execution_count": 1,
      "outputs": [
        {
          "name": "stdout",
          "output_type": "stream",
          "text": [
            "\n",
            "Enter the desired length of the password: 4\n",
            "\n",
            "Password Length Must Be garter then 6\n",
            "\n",
            "Enter the desired length of the password: 6\n",
            "\n",
            "Generated Password: -B7}J6\n",
            "\n",
            "Do you want to generate another password? (y/n): y\n",
            "\n",
            "Enter the desired length of the password: 28\n",
            "\n",
            "Generated Password: J()J@T_I?RF#!4LB+L;<QA06S\\E%\n",
            "\n",
            "Do you want to generate another password? (y/n): y\n",
            "\n",
            "Enter the desired length of the password: 10\n",
            "\n",
            "Generated Password: 6@\\QG6S$M<\n",
            "\n",
            "Do you want to generate another password? (y/n): n\n"
          ]
        }
      ]
    }
  ]
}