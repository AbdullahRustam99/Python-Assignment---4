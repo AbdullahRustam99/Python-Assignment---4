{
  "nbformat": 4,
  "nbformat_minor": 0,
  "metadata": {
    "colab": {
      "provenance": []
    },
    "kernelspec": {
      "name": "python3",
      "display_name": "Python 3"
    },
    "language_info": {
      "name": "python"
    }
  },
  "cells": [
    {
      "cell_type": "markdown",
      "source": [
        "# **Project 3: Guess the Number Game Python Project (user) [Colab Link](https://colab.research.google.com/drive/1h8w43z2Hncfs3ZbXy3goMhKcSJh3XBpO)**\n",
        "\n"
      ],
      "metadata": {
        "id": "eYztWCmV3rE-"
      }
    },
    {
      "cell_type": "code",
      "source": [
        "import random\n",
        "\n",
        "print(\"Guess The Number (User)\")\n",
        "print(\"=============================\")\n",
        "while True:\n",
        "        Computer_Guess = random.randint(1,100)\n",
        "        print(\"Guess Between 1 to 100\")\n",
        "        while True:\n",
        "          user_Guess = int(input(\"Enter Your Guess : \"))\n",
        "          if user_Guess > Computer_Guess:\n",
        "             print(\"Guess IS TOO HIGH\")\n",
        "          elif user_Guess < Computer_Guess:\n",
        "             print(\"Guess IS TOO Low\")\n",
        "          elif user_Guess == Computer_Guess:\n",
        "            print(\"\\n\\t You guessed number correctly!\")\n",
        "            break\n",
        "          else:\n",
        "              print(\"Invalid Input\")\n",
        "        playAgain = input(\"\\nDo You Want to Play Again ? (y/n) : \")\n",
        "        if playAgain.lower() == \"y\":\n",
        "          continue\n",
        "        else:\n",
        "          print(\"Thank You For Playing\")\n",
        "          break\n",
        "\n",
        "\n",
        "\n",
        ""
      ],
      "metadata": {
        "id": "ssnpTN3F36pb",
        "colab": {
          "base_uri": "https://localhost:8080/"
        },
        "outputId": "26d729a1-1c0e-4ea0-ce45-c12be8645ff5"
      },
      "execution_count": 3,
      "outputs": [
        {
          "output_type": "stream",
          "name": "stdout",
          "text": [
            "Guess The Number (User)\n",
            "=============================\n",
            "Guess Between 1 to 100\n",
            "Enter Your Guess : 67\n",
            "Guess IS TOO HIGH\n",
            "Enter Your Guess : 45\n",
            "Guess IS TOO HIGH\n",
            "Enter Your Guess : 10\n",
            "Guess IS TOO Low\n",
            "Enter Your Guess : 20\n",
            "Guess IS TOO Low\n",
            "Enter Your Guess : 30\n",
            "Guess IS TOO HIGH\n",
            "Enter Your Guess : 36\n",
            "Guess IS TOO HIGH\n",
            "Enter Your Guess : 26\n",
            "Guess IS TOO HIGH\n",
            "Enter Your Guess : 23\n",
            "Guess IS TOO Low\n",
            "Enter Your Guess : 24\n",
            "\n",
            "\t You guessed number correctly!\n",
            "\n",
            "Do You Want to Play Again ? (y/n) : y\n",
            "Guess Between 1 to 100\n",
            "Enter Your Guess : 30\n",
            "Guess IS TOO Low\n",
            "Enter Your Guess : 50\n",
            "Guess IS TOO Low\n",
            "Enter Your Guess : 7\n",
            "Guess IS TOO Low\n",
            "Enter Your Guess : 70\n",
            "Guess IS TOO HIGH\n",
            "Enter Your Guess : 60\n",
            "Guess IS TOO Low\n",
            "Enter Your Guess : 65\n",
            "Guess IS TOO HIGH\n",
            "Enter Your Guess : 63\n",
            "\n",
            "\t You guessed number correctly!\n",
            "\n",
            "Do You Want to Play Again ? (y/n) : n\n",
            "Thank You For Playing\n"
          ]
        }
      ]
    }
  ]
}