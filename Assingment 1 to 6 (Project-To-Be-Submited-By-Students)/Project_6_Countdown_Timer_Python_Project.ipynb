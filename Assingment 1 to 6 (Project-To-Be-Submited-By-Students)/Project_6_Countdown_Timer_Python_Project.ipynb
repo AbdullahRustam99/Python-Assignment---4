{
  "nbformat": 4,
  "nbformat_minor": 0,
  "metadata": {
    "colab": {
      "provenance": []
    },
    "kernelspec": {
      "name": "python3",
      "display_name": "Python 3"
    },
    "language_info": {
      "name": "python"
    }
  },
  "cells": [
    {
      "cell_type": "markdown",
      "source": [
        "# **Project 6: Countdown Timer Python Project [Colab Link](https://colab.research.google.com/drive/1BIyb7DicL4a6bVWiybUlR48bxiiTQEEj)**\n",
        "\n"
      ],
      "metadata": {
        "id": "eYztWCmV3rE-"
      }
    },
    {
      "cell_type": "code",
      "source": [
        "import time\n",
        "\n",
        "def countdown(sec):\n",
        "    while sec:\n",
        "        mins, secs = divmod(sec, 60)\n",
        "        disply_time = f\"\\n{mins:02d}:{secs:02d}\"\n",
        "        print(disply_time)\n",
        "        time.sleep(1)\n",
        "        sec -= 1\n",
        "    print(\"\\n\\tTimes Up\")\n",
        "def main():\n",
        "\n",
        "    time = (input(\"Enter the time in seconds: \"))\n",
        "    countdown(int(time))\n",
        "\n",
        "if __name__ == \"__main__\":\n",
        "    main()\n"
      ],
      "metadata": {
        "id": "etj7rx-qcZYx",
        "colab": {
          "base_uri": "https://localhost:8080/"
        },
        "outputId": "2d76cdca-330e-41c3-aed9-c8c4a6a7534a"
      },
      "execution_count": null,
      "outputs": [
        {
          "output_type": "stream",
          "name": "stdout",
          "text": [
            "Enter the time in seconds: 10\n",
            "\n",
            "00:10\n",
            "\n",
            "00:09\n",
            "\n",
            "00:08\n",
            "\n",
            "00:07\n",
            "\n",
            "00:06\n",
            "\n",
            "00:05\n",
            "\n",
            "00:04\n",
            "\n",
            "00:03\n",
            "\n",
            "00:02\n",
            "\n",
            "00:01\n",
            "\n",
            "\tTimes Up\n"
          ]
        }
      ]
    },
    {
      "cell_type": "code",
      "source": [],
      "metadata": {
        "id": "xFUSy-AhPs6K"
      },
      "execution_count": null,
      "outputs": []
    }
  ]
}