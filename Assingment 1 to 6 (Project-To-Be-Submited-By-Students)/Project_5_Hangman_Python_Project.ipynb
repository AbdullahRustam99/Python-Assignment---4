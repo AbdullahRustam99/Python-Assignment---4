{
  "nbformat": 4,
  "nbformat_minor": 0,
  "metadata": {
    "colab": {
      "provenance": []
    },
    "kernelspec": {
      "name": "python3",
      "display_name": "Python 3"
    },
    "language_info": {
      "name": "python"
    }
  },
  "cells": [
    {
      "cell_type": "markdown",
      "source": [
        "# **Project 5 : Hangman Python Project [Colab Link](https://colab.research.google.com/drive/1uQiH4HQnU6QYuWwqNiJ_u99pr5UZiJOr)**\n",
        "\n"
      ],
      "metadata": {
        "id": "eYztWCmV3rE-"
      }
    },
    {
      "cell_type": "code",
      "source": [
        "import random\n",
        "\n",
        "def choose_word():\n",
        "    fruit = [\"apple\", \"banana\", \"orange\", \"grape\", \"watermelon\", \"pineapple\", \"mango\", \"strawberry\"]\n",
        "    programming = [\"python\", \"java\", \"javascript\", \"c++\", \"ruby\", \"swift\", \"kotlin\", \"php\", \"go\", \"scala\"]\n",
        "    thing = [\"table\", \"chair\", \"computer\", \"phone\", \"book\", \"pen\", \"lamp\", \"clock\", \"key\", \"door\"]\n",
        "    while True:\n",
        "        user_pick = input(\"Choose a category (fruit, programming, thing): \")\n",
        "\n",
        "        if user_pick.lower() == \"fruit\":\n",
        "            return random.choice(fruit)\n",
        "        elif user_pick.lower() == \"programming\":\n",
        "            return random.choice(programming)\n",
        "        elif user_pick.lower() == \"thing\":\n",
        "            return random.choice(thing)\n",
        "        else:\n",
        "            print(\"\\tInvalid category choice... Please pick from the given options.\")\n",
        "\n",
        "def hangman():\n",
        "    word = choose_word()\n",
        "    guess_letter = []\n",
        "    life = 6\n",
        "\n",
        "    while life > 0:\n",
        "        guess = input(\"\\nGuess a Letter : \").lower()\n",
        "\n",
        "        if guess in guess_letter:\n",
        "            print(\"You have already guessed that letter\")\n",
        "            continue\n",
        "\n",
        "        guess_letter.append(guess)\n",
        "\n",
        "        if guess in word:\n",
        "            print(\"\\n\\tGOOD GUESS\")\n",
        "        else:\n",
        "            print(\"\\n\\tWRONG GUESS\")\n",
        "            life -= 1\n",
        "\n",
        "\n",
        "        disply_world = \"\".join([letter if letter in guess_letter else \"_\" for letter in word])\n",
        "        print(\" \".join(disply_world))\n",
        "        print(f\"You have {life} life left\")\n",
        "\n",
        "        if \"_\" not in disply_world:\n",
        "              print(f\"\\n\\tYou Guess Tha Correct Word : {word}\")\n",
        "              break\n",
        "hangman()"
      ],
      "metadata": {
        "colab": {
          "base_uri": "https://localhost:8080/"
        },
        "id": "DiN7IkxrJ4md",
        "outputId": "92687062-3df2-48cd-8605-1ffab1ff91c0"
      },
      "execution_count": 18,
      "outputs": [
        {
          "output_type": "stream",
          "name": "stdout",
          "text": [
            "Choose a category (fruit, programming, thing): thing\n",
            "\n",
            "Guess a Letter : c\n",
            "\n",
            "\tWRONG GUESS\n",
            "_ _ _ _\n",
            "You have 5 life left\n",
            "\n",
            "Guess a Letter : t\n",
            "\n",
            "\tWRONG GUESS\n",
            "_ _ _ _\n",
            "You have 4 life left\n",
            "\n",
            "Guess a Letter : o\n",
            "\n",
            "\tGOOD GUESS\n",
            "_ o o _\n",
            "You have 4 life left\n",
            "\n",
            "Guess a Letter : k\n",
            "\n",
            "\tWRONG GUESS\n",
            "_ o o _\n",
            "You have 3 life left\n",
            "\n",
            "Guess a Letter : r\n",
            "\n",
            "\tGOOD GUESS\n",
            "_ o o r\n",
            "You have 3 life left\n",
            "\n",
            "Guess a Letter : d\n",
            "\n",
            "\tGOOD GUESS\n",
            "d o o r\n",
            "You have 3 life left\n",
            "\n",
            "\tYou Guess Tha Correct Word : door\n"
          ]
        }
      ]
    }
  ]
}