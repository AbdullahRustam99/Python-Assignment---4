{
  "nbformat": 4,
  "nbformat_minor": 0,
  "metadata": {
    "colab": {
      "provenance": []
    },
    "kernelspec": {
      "name": "python3",
      "display_name": "Python 3"
    },
    "language_info": {
      "name": "python"
    }
  },
  "cells": [
    {
      "cell_type": "markdown",
      "source": [
        "# **Lists and Dicts [Colab Link](https://colab.research.google.com/drive/1i21e1TDXfJt2ntubhxaq2-AUBBIxqqfm)**\n",
        "\n"
      ],
      "metadata": {
        "id": "eYztWCmV3rE-"
      }
    },
    {
      "cell_type": "markdown",
      "source": [
        "### **Problem 1: List Practice**"
      ],
      "metadata": {
        "id": "XLJVbx5Ud_xl"
      }
    },
    {
      "cell_type": "code",
      "source": [
        "list =[ 'apple', 'banana', 'orange', 'grape', 'pineapple']\n",
        "print(\"List :\",list)\n",
        "print(\"Length of list :\",len(list))\n",
        "list.append('mango')\n",
        "print(\"Updated List :\",list)\n",
        "print(\"Length of list :\",len(list))\n"
      ],
      "metadata": {
        "colab": {
          "base_uri": "https://localhost:8080/"
        },
        "id": "Nnkppwb3d62g",
        "outputId": "c0a58bdd-1d41-46ee-9fab-2780437c8ded"
      },
      "execution_count": 2,
      "outputs": [
        {
          "output_type": "stream",
          "name": "stdout",
          "text": [
            "List : ['apple', 'banana', 'orange', 'grape', 'pineapple']\n",
            "Length of list : 5\n",
            "Updated List : ['apple', 'banana', 'orange', 'grape', 'pineapple', 'mango']\n",
            "Length of list : 6\n"
          ]
        }
      ]
    },
    {
      "cell_type": "markdown",
      "source": [
        "### **Problem 2: Index Game**"
      ],
      "metadata": {
        "id": "Di0qF3wneOpH"
      }
    },
    {
      "cell_type": "code",
      "source": [
        "def access_element(lst, index):\n",
        "    if  index > len(lst):\n",
        "        return \"\\nIndex out of Range\"\n",
        "    else:\n",
        "        return lst[index]\n",
        "\n",
        "def modify_element(lst, index, new_value):\n",
        "    if index > len(lst):\n",
        "        return \"\\nIndex out of Range\"\n",
        "    else:\n",
        "        lst[index] = new_value\n",
        "        return lst\n",
        "\n",
        "def slice_list(lst, start, end):\n",
        "    if start < 0 or end > len(lst):\n",
        "        return \"\\nInvalid Slice Range\"\n",
        "    else:\n",
        "        return lst[start:end]\n",
        "\n",
        "\n",
        "def main():\n",
        "  list =[ 'apple', 'banana', 'orange', 'grape', 'pineapple']\n",
        "\n",
        "  while True:\n",
        "        print(\"\\nCurrent List:\",list)\n",
        "        print(\"\\nChoose an operation:\")\n",
        "        print(\"1. Access an element\")\n",
        "        print(\"2. Modify an element\")\n",
        "        print(\"3. Slice the list\")\n",
        "        print(\"4. Exit\")\n",
        "\n",
        "        choice = int(input(\"\\nEnter your choice (1-4): \"))\n",
        "\n",
        "        if choice == 1:\n",
        "            index = int(input(\"\\nEnter the Index : \"))\n",
        "            result = access_element(list, index)\n",
        "            print(f\"\\n\\tAccessed Element : {result}\")\n",
        "        elif choice == 2:\n",
        "            index = int(input(\"\\nEnter the Index : \"))\n",
        "            new_value = input(\"Enter the New Value: \")\n",
        "            result = modify_element(list, index, new_value)\n",
        "            print(f\"\\n\\tModifed List : {result}\")\n",
        "        elif choice == 3:\n",
        "            start = int(input(\"\\nEnter the Start Index : \"))\n",
        "            end = int(input(\"Enter the End Index : \"))\n",
        "            result = slice_list(list, start, end)\n",
        "            print(f\"\\n\\tSliced List : {result}\")\n",
        "        else :\n",
        "            print(\"\\nGood By\")\n",
        "            break\n",
        "\n",
        "if __name__ == \"__main__\":\n",
        "    main()"
      ],
      "metadata": {
        "colab": {
          "base_uri": "https://localhost:8080/"
        },
        "id": "dEE398yZeUeI",
        "outputId": "4e0cda56-acf2-4736-a896-54633a1addde"
      },
      "execution_count": 1,
      "outputs": [
        {
          "output_type": "stream",
          "name": "stdout",
          "text": [
            "\n",
            "Current List: ['apple', 'banana', 'orange', 'grape', 'pineapple']\n",
            "\n",
            "Choose an operation:\n",
            "1. Access an element\n",
            "2. Modify an element\n",
            "3. Slice the list\n",
            "4. Exit\n",
            "\n",
            "Enter your choice (1-4): 1\n",
            "\n",
            "Enter the Index : 4\n",
            "\n",
            "\tAccessed Element : pineapple\n",
            "\n",
            "Current List: ['apple', 'banana', 'orange', 'grape', 'pineapple']\n",
            "\n",
            "Choose an operation:\n",
            "1. Access an element\n",
            "2. Modify an element\n",
            "3. Slice the list\n",
            "4. Exit\n",
            "\n",
            "Enter your choice (1-4): 2\n",
            "\n",
            "Enter the Index : 3\n",
            "Enter the New Value: mango\n",
            "\n",
            "\tModifed List : ['apple', 'banana', 'orange', 'mango', 'pineapple']\n",
            "\n",
            "Current List: ['apple', 'banana', 'orange', 'mango', 'pineapple']\n",
            "\n",
            "Choose an operation:\n",
            "1. Access an element\n",
            "2. Modify an element\n",
            "3. Slice the list\n",
            "4. Exit\n",
            "\n",
            "Enter your choice (1-4): 3\n",
            "\n",
            "Enter the Start Index : 1\n",
            "Enter the End Index : 3\n",
            "\n",
            "\tSliced List : ['banana', 'orange']\n",
            "\n",
            "Current List: ['apple', 'banana', 'orange', 'mango', 'pineapple']\n",
            "\n",
            "Choose an operation:\n",
            "1. Access an element\n",
            "2. Modify an element\n",
            "3. Slice the list\n",
            "4. Exit\n",
            "\n",
            "Enter your choice (1-4): 4\n",
            "\n",
            "Good By\n"
          ]
        }
      ]
    }
  ]
}