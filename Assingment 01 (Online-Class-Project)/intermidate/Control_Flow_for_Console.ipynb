{
  "nbformat": 4,
  "nbformat_minor": 0,
  "metadata": {
    "colab": {
      "provenance": []
    },
    "kernelspec": {
      "name": "python3",
      "display_name": "Python 3"
    },
    "language_info": {
      "name": "python"
    }
  },
  "cells": [
    {
      "cell_type": "markdown",
      "source": [
        "# **Control Flow for Console (computer) [Colab Link](https://colab.research.google.com/drive/1nPzE4kkmFt2oSFDutZSv8wsqDKcIYHyL)**\n",
        "\n"
      ],
      "metadata": {
        "id": "eYztWCmV3rE-"
      }
    },
    {
      "cell_type": "code",
      "source": [
        "import random\n",
        "\n",
        "round = 5\n",
        "score = 0\n",
        "while round > 0:\n",
        "\n",
        "    user_num = random.randint(1,100)\n",
        "    computer_num = random.randint(1,100)\n",
        "\n",
        "    print(f\"\\t\\t\\tRound : {round}\")\n",
        "    print(\"\\nYour number is =\",user_num)\n",
        "    user_input = input(\"Is your number is Higher Or Lower then Computer ? : \").lower()\n",
        "\n",
        "    if user_input == \"higher\":\n",
        "        correct = user_num > computer_num\n",
        "        if correct:\n",
        "            score += 1\n",
        "            print(f\"You Are Correct! The Number is Higher Then Computer : {computer_num}\")\n",
        "            round -= 1\n",
        "        else:\n",
        "            print(f\"Wrong! The Computer number is: : {computer_num}\")\n",
        "            round -= 1\n",
        "\n",
        "    elif user_input == 'lower':\n",
        "          correct = user_num < computer_num\n",
        "          if correct:\n",
        "            score += 1\n",
        "            print(f\"You Are Correct! The Number is Lower Then Computer : {computer_num}\")\n",
        "            round -= 1\n",
        "          else:\n",
        "            print(f\"Wrong! The computer number is: : {computer_num}\")\n",
        "            round -= 1\n",
        "\n",
        "    else:\n",
        "      print(\"\\n\\tPlease Enter Valid Input\\n\")\n",
        "    print(f\"Your Score Is = {score}\")\n",
        "if score == 5:\n",
        "  print(\"\\n\\t\\tWow! You played perfectly!\")\n",
        "elif score >= 2:\n",
        "  print(\"\\n\\t\\tGood job, you played really well!\")\n",
        "else:\n",
        "  print(\"\\n\\t\\tBetter luck next time!\")\n"
      ],
      "metadata": {
        "colab": {
          "base_uri": "https://localhost:8080/"
        },
        "id": "3rmcXXuDKWti",
        "outputId": "7535ab65-1131-441e-d8d1-a65544f7fbf8"
      },
      "execution_count": 21,
      "outputs": [
        {
          "output_type": "stream",
          "name": "stdout",
          "text": [
            "\t\t\tRound : 5\n",
            "\n",
            "Your number is = 47\n",
            "Is your number is Higher Or Lower then Computer ? : lower\n",
            "You Are Correct! The Number is Lower Then Computer : 96\n",
            "Your Score Is = 1\n",
            "\t\t\tRound : 4\n",
            "\n",
            "Your number is = 57\n",
            "Is your number is Higher Or Lower then Computer ? : lower\n",
            "Wrong! The computer number is: : 57\n",
            "Your Score Is = 1\n",
            "\t\t\tRound : 3\n",
            "\n",
            "Your number is = 13\n",
            "Is your number is Higher Or Lower then Computer ? : lower\n",
            "You Are Correct! The Number is Lower Then Computer : 45\n",
            "Your Score Is = 2\n",
            "\t\t\tRound : 2\n",
            "\n",
            "Your number is = 88\n",
            "Is your number is Higher Or Lower then Computer ? : highwe\n",
            "\n",
            "\tPlease Enter Valid Input\n",
            "\n",
            "Your Score Is = 2\n",
            "\t\t\tRound : 2\n",
            "\n",
            "Your number is = 99\n",
            "Is your number is Higher Or Lower then Computer ? : higher\n",
            "You Are Correct! The Number is Higher Then Computer : 35\n",
            "Your Score Is = 3\n",
            "\t\t\tRound : 1\n",
            "\n",
            "Your number is = 64\n",
            "Is your number is Higher Or Lower then Computer ? : higher\n",
            "You Are Correct! The Number is Higher Then Computer : 3\n",
            "Your Score Is = 4\n",
            "\n",
            "\t\tGood job, you played really well!\n"
          ]
        }
      ]
    }
  ]
}