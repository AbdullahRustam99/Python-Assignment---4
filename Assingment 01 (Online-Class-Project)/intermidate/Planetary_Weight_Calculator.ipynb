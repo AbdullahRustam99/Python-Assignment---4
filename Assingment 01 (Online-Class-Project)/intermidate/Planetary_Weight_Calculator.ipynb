{
  "nbformat": 4,
  "nbformat_minor": 0,
  "metadata": {
    "colab": {
      "provenance": []
    },
    "kernelspec": {
      "name": "python3",
      "display_name": "Python 3"
    },
    "language_info": {
      "name": "python"
    }
  },
  "cells": [
    {
      "cell_type": "markdown",
      "source": [
        "# **Planetary Weight Calculator [Colab Link](https://colab.research.google.com/drive/1eo0ACRp1MCzEcRVAOZdsJIlystgdLxPc)**\n",
        "\n"
      ],
      "metadata": {
        "id": "eYztWCmV3rE-"
      }
    },
    {
      "cell_type": "code",
      "source": [
        "MERCURY_GRAVITY = 0.38\n",
        "VENUS_GRAVITY = 0.91\n",
        "MARS_GRAVITY = 0.38\n",
        "JUPITER_GRAVITY = 2.34\n",
        "SATURN_GRAVITY = 1.06\n",
        "URANUS_GRAVITY = 0.92\n",
        "NEPTUNE_GRAVITY = 1.19\n",
        "\n",
        "print(\"\"\"\\nMercury = 1\n",
        "Venus = 2\n",
        "Mars = 3\n",
        "Jupiter = 4\n",
        "Saturn = 5\n",
        "Uranus = 6\n",
        "Neptune = 7\n",
        "\"\"\")\n",
        "while True:\n",
        "\n",
        "        weight = int(input(\"Enter Weight On Earth : \"))\n",
        "        planet = int(input(\"Enter Planet Name : \"))\n",
        "\n",
        "        gravity_constant ={\n",
        "            1: MERCURY_GRAVITY,\n",
        "            2: VENUS_GRAVITY,\n",
        "            3: MARS_GRAVITY,\n",
        "            4: JUPITER_GRAVITY,\n",
        "            5: SATURN_GRAVITY,\n",
        "            6: URANUS_GRAVITY,\n",
        "            7:NEPTUNE_GRAVITY}\n",
        "\n",
        "        if planet in gravity_constant:\n",
        "            contant = gravity_constant[planet]\n",
        "            calculate = weight * contant\n",
        "            print(f\"\\nWeight On Planet {planet} is {calculate:.2f}\")\n",
        "            more = input(\"\\nWant Continue Calculation (y/n) : \")\n",
        "        else:\n",
        "            print(\"\\nInvalid Planet Name\")\n",
        "            more = input(\"\\nWant Continue Calculation (y/n) : \")\n",
        "\n",
        "        if  more.lower() == \"n\" :\n",
        "            break\n",
        "\n"
      ],
      "metadata": {
        "colab": {
          "base_uri": "https://localhost:8080/"
        },
        "id": "p3AvnDB1YDqr",
        "outputId": "6e6833d2-bfa1-4050-baea-0702b65279eb"
      },
      "execution_count": 6,
      "outputs": [
        {
          "name": "stdout",
          "output_type": "stream",
          "text": [
            "\n",
            "Mercury = 1\n",
            "Venus = 2\n",
            "Mars = 3\n",
            "Jupiter = 4\n",
            "Saturn = 5\n",
            "Uranus = 6\n",
            "Neptune = 7\n",
            "\n",
            "Enter Weight On Earth : 120\n",
            "Enter Planet Name : 4\n",
            "\n",
            "Weight On Planet 4 is 280.80\n",
            "\n",
            "Want Continue Calculation (y/n) : y\n",
            "Enter Weight On Earth : 120\n",
            "Enter Planet Name : 6\n",
            "\n",
            "Weight On Planet 6 is 110.40\n",
            "\n",
            "Want Continue Calculation (y/n) : y\n",
            "Enter Weight On Earth : 120\n",
            "Enter Planet Name : 1\n",
            "\n",
            "Weight On Planet 1 is 45.60\n",
            "\n",
            "Want Continue Calculation (y/n) : n\n"
          ]
        }
      ]
    }
  ]
}