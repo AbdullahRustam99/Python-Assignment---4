{
  "nbformat": 4,
  "nbformat_minor": 0,
  "metadata": {
    "colab": {
      "provenance": []
    },
    "kernelspec": {
      "name": "python3",
      "display_name": "Python 3"
    },
    "language_info": {
      "name": "python"
    }
  },
  "cells": [
    {
      "cell_type": "markdown",
      "source": [
        "# **01_basics :  [Colab link](https://colab.research.google.com/drive/1LhfcDICl5qkrSQFTfnp11Hn9KMmXCBU4)**  "
      ],
      "metadata": {
        "id": "QO8D_bYSKYOu"
      }
    },
    {
      "cell_type": "markdown",
      "source": [
        "#### **. 00_joke_bot**"
      ],
      "metadata": {
        "id": "9QKMXCj5njzq"
      }
    },
    {
      "cell_type": "code",
      "source": [
        "import random\n",
        "def main():\n",
        "    userInput = input(\"What You Want (joke): \").upper()\n",
        "    LIB =[f\"Why don’t skeletons fight each other? Because they don’t have the guts!\",\n",
        "          f\"Why did the scarecrow win an award? Because he was outstanding in his field! \",\n",
        "          f\"Why don’t eggs tell jokes? Because they might crack up!\",\n",
        "          f\"Why did the math book look sad? Because it had too many problems!\",\n",
        "          f\"What did one ocean say to the other ocean? Nothing, they just waved!\"]\n",
        "    if userInput == \"JOKE\" :\n",
        "        ranNum = random.randint(0,4)\n",
        "        sentence = LIB[ranNum]\n",
        "        print(f\"\\n{sentence}\")\n",
        "    else:\n",
        "        print(\"Please Enter Joke\")\n",
        "\n",
        "if __name__ == '__main__':\n",
        "    main()"
      ],
      "metadata": {
        "colab": {
          "base_uri": "https://localhost:8080/"
        },
        "id": "bAvFvMk9mYJQ",
        "outputId": "33257fc5-6616-41ef-f007-781820be2712"
      },
      "execution_count": 74,
      "outputs": [
        {
          "output_type": "stream",
          "name": "stdout",
          "text": [
            "What You Want (joke): joke\n",
            "\n",
            "Why don’t eggs tell jokes? Because they might crack up!\n"
          ]
        }
      ]
    },
    {
      "cell_type": "markdown",
      "source": [
        "#### **. 01_double_it**"
      ],
      "metadata": {
        "id": "cDpoYPJGn-he"
      }
    },
    {
      "cell_type": "code",
      "source": [
        "def double_it(number):\n",
        "  double = []\n",
        "  i = 1\n",
        "  while True:\n",
        "        value = number ** i\n",
        "        i+=1\n",
        "        if  value >= 100:\n",
        "          break\n",
        "        double.append(value)\n",
        "  return double\n",
        "\n",
        "\n",
        "def main():\n",
        "  Userinput = int(input(\"Enter a number: \"))\n",
        "  print(double_it(Userinput))\n",
        "\n",
        "if __name__ == '__main__':\n",
        "    main()\n"
      ],
      "metadata": {
        "colab": {
          "base_uri": "https://localhost:8080/"
        },
        "id": "HYMBQMR5mfjl",
        "outputId": "2102b6f1-012c-4049-fb3b-db4f4f8ff486"
      },
      "execution_count": 72,
      "outputs": [
        {
          "output_type": "stream",
          "name": "stdout",
          "text": [
            "Enter a number: 2\n",
            "[2, 4, 8, 16, 32, 64]\n"
          ]
        }
      ]
    },
    {
      "cell_type": "markdown",
      "source": [
        "#### **. 02_liftoff**"
      ],
      "metadata": {
        "id": "AzpXXJF2n-Vh"
      }
    },
    {
      "cell_type": "code",
      "source": [
        "def main():\n",
        "   for i in range(10):\n",
        "        print(-i+10)\n",
        "   print(\"Liftoff\")\n",
        "if __name__ == '__main__':\n",
        "    main()"
      ],
      "metadata": {
        "colab": {
          "base_uri": "https://localhost:8080/"
        },
        "id": "xvpg0fRswlK1",
        "outputId": "5e902242-f9b2-4f09-b817-1efaf5eaf8fb"
      },
      "execution_count": 75,
      "outputs": [
        {
          "output_type": "stream",
          "name": "stdout",
          "text": [
            "10\n",
            "9\n",
            "8\n",
            "7\n",
            "6\n",
            "5\n",
            "4\n",
            "3\n",
            "2\n",
            "1\n",
            "Liftoff\n"
          ]
        }
      ]
    },
    {
      "cell_type": "markdown",
      "source": [
        "#### **. 03_guess_my_number.**"
      ],
      "metadata": {
        "id": "C-2DtA_On-Cj"
      }
    },
    {
      "cell_type": "code",
      "source": [
        "import random\n",
        "\n",
        "print(\"Guess The Number (User)\")\n",
        "while True:\n",
        "        Computer_Guess = random.randint(1,100)\n",
        "        print(\"Guess Between 1 to 100\")\n",
        "        while True:\n",
        "          user_Guess = int(input(\"Enter Your Guess : \"))\n",
        "          if user_Guess > Computer_Guess:\n",
        "             print(\"Guess IS TOO HIGH\")\n",
        "          elif user_Guess < Computer_Guess:\n",
        "             print(\"Guess IS TOO Low\")\n",
        "          elif user_Guess == Computer_Guess:\n",
        "            print(\"\\n\\t You guessed number correctly!\")\n",
        "            break\n",
        "          else:\n",
        "              print(\"Invalid Input\")\n",
        "        playAgain = input(\"\\nDo You Want to Play Again ? (y/n) : \")\n",
        "        if playAgain.lower() == \"y\":\n",
        "          continue\n",
        "        else:\n",
        "          print(\"Thank You For Playing\")\n",
        "          break\n",
        "\n",
        "\n",
        "\n"
      ],
      "metadata": {
        "colab": {
          "base_uri": "https://localhost:8080/"
        },
        "id": "IWRz97MxmlEM",
        "outputId": "bf349462-00c2-4311-e7c2-7f0e8b86d687"
      },
      "execution_count": 76,
      "outputs": [
        {
          "output_type": "stream",
          "name": "stdout",
          "text": [
            "Guess The Number (User)\n",
            "Guess Between 1 to 100\n",
            "Enter Your Guess : 3\n",
            "Guess IS TOO Low\n",
            "Enter Your Guess : 60\n",
            "Guess IS TOO Low\n",
            "Enter Your Guess : 80\n",
            "Guess IS TOO HIGH\n",
            "Enter Your Guess : 70\n",
            "Guess IS TOO HIGH\n",
            "Enter Your Guess : 67\n",
            "Guess IS TOO HIGH\n",
            "Enter Your Guess : 66\n",
            "Guess IS TOO HIGH\n",
            "Enter Your Guess : 63\n",
            "Guess IS TOO Low\n",
            "Enter Your Guess : 65\n",
            "\n",
            "\t You guessed number correctly!\n",
            "\n",
            "Do You Want to Play Again ? (y/n) : n\n",
            "Thank You For Playing\n"
          ]
        }
      ]
    },
    {
      "cell_type": "markdown",
      "source": [
        "#### **. 04_random_numbers**"
      ],
      "metadata": {
        "id": "fpP4GEoXn9zT"
      }
    },
    {
      "cell_type": "code",
      "source": [
        "import random\n",
        "\n",
        "def main():\n",
        "    num = int(input(\"Enter Range Of Numbers : \"))\n",
        "    numLst = []\n",
        "    for i in range(num):\n",
        "        numLst.append(random.randint(1,100))\n",
        "    print(f\"\\n Random Numbers : {numLst}\")\n",
        "if __name__ == '__main__':\n",
        "    main()"
      ],
      "metadata": {
        "colab": {
          "base_uri": "https://localhost:8080/"
        },
        "id": "pkN68XQGmm3h",
        "outputId": "cdb8be08-32ea-44bf-d28f-6a4fc1a9186c"
      },
      "execution_count": 84,
      "outputs": [
        {
          "output_type": "stream",
          "name": "stdout",
          "text": [
            "Enter Range Of Numbers : 19\n",
            "\n",
            " Random Numbers : [27, 34, 7, 10, 78, 15, 90, 50, 92, 26, 92, 82, 7, 37, 67, 29, 95, 37, 89]\n"
          ]
        }
      ]
    }
  ]
}