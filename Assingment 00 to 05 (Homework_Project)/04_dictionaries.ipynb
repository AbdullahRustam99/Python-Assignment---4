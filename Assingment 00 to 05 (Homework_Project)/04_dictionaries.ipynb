{
  "nbformat": 4,
  "nbformat_minor": 0,
  "metadata": {
    "colab": {
      "provenance": []
    },
    "kernelspec": {
      "name": "python3",
      "display_name": "Python 3"
    },
    "language_info": {
      "name": "python"
    }
  },
  "cells": [
    {
      "cell_type": "markdown",
      "source": [
        "# **04_dictionaries :  [Colab link](https://colab.research.google.com/drive/1RuD-9sREa8TjvZx9ewkdHOYAMmq8d0i2)**  "
      ],
      "metadata": {
        "id": "QO8D_bYSKYOu"
      }
    },
    {
      "cell_type": "markdown",
      "source": [
        "#### **. 00_count_nums**"
      ],
      "metadata": {
        "id": "9QKMXCj5njzq"
      }
    },
    {
      "cell_type": "code",
      "source": [
        "def user_input():\n",
        "   userNum = []\n",
        "   while True:\n",
        "    num = input(\"Enter Number : \")\n",
        "    userNum.append(num)\n",
        "    if num == \"\":\n",
        "      break\n",
        "   return userNum\n",
        "\n",
        "def main():\n",
        "    numList = user_input()\n",
        "    numDist = {}\n",
        "    for i in numList:\n",
        "        if i in numDist:\n",
        "            numDist[i] += 1\n",
        "        else:\n",
        "            numDist[i] = 1\n",
        "    for val in numDist:\n",
        "        if val != \"\":\n",
        "            print(f\"\\n{val} appear : {numDist[val]} times\")\n",
        "if __name__ == '__main__':\n",
        "    main()"
      ],
      "metadata": {
        "colab": {
          "base_uri": "https://localhost:8080/"
        },
        "id": "TnOZYm3noerm",
        "outputId": "8cdfbbbd-8c5f-4b80-e207-81c4f014beac"
      },
      "execution_count": null,
      "outputs": [
        {
          "output_type": "stream",
          "name": "stdout",
          "text": [
            "Enter Number : 2\n",
            "Enter Number : 2\n",
            "Enter Number : 10\n",
            "Enter Number : 2\n",
            "Enter Number : 3\n",
            "Enter Number : 4\n",
            "Enter Number : 3\n",
            "Enter Number : 10\n",
            "Enter Number : 10\n",
            "Enter Number : 10\n",
            "Enter Number : 4\n",
            "Enter Number : \n",
            "\n",
            "2 appear : 3 times\n",
            "\n",
            "10 appear : 4 times\n",
            "\n",
            "3 appear : 2 times\n",
            "\n",
            "4 appear : 2 times\n"
          ]
        }
      ]
    },
    {
      "cell_type": "markdown",
      "source": [
        "#### **. 01_phonebook**"
      ],
      "metadata": {
        "id": "cDpoYPJGn-he"
      }
    },
    {
      "cell_type": "code",
      "source": [
        "def add_phone_book():\n",
        "    phonebook = {}\n",
        "    while True:\n",
        "        name = input(\"Enter Name : \")\n",
        "        if name == \"\":\n",
        "            break\n",
        "        phone = input(\"Enter Phone Number : \")\n",
        "        phonebook[name] = phone\n",
        "    return phonebook\n",
        "\n",
        "def main():\n",
        "    book = add_phone_book()\n",
        "    for name in book:\n",
        "        print(f\"\\nThe {name} Number is {book[name]}\")\n",
        "if __name__ == '__main__':\n",
        "    main()"
      ],
      "metadata": {
        "colab": {
          "base_uri": "https://localhost:8080/"
        },
        "id": "VhrCh0x_ofTD",
        "outputId": "86774982-9037-4bc4-ac8f-2d914e617a6c"
      },
      "execution_count": null,
      "outputs": [
        {
          "output_type": "stream",
          "name": "stdout",
          "text": [
            "Enter Name : Abdullah \n",
            "Enter Phone Number : 0323232332\n",
            "Enter Name : khan\n",
            "Enter Phone Number : 092309298308\n",
            "Enter Name : junaid\n",
            "Enter Phone Number : 0012132323223\n",
            "Enter Name : \n",
            "\n",
            "The Abdullah  Number is 0323232332\n",
            "\n",
            "The khan Number is 092309298308\n",
            "\n",
            "The junaid Number is 0012132323223\n"
          ]
        }
      ]
    },
    {
      "cell_type": "markdown",
      "source": [
        "#### **. 02_pop_up_shop**"
      ],
      "metadata": {
        "id": "AzpXXJF2n-Vh"
      }
    },
    {
      "cell_type": "code",
      "source": [
        "def main():\n",
        "    fruitsItem = {\"Apple\" : 1.5,\"Melon\" : 2,\"Mango\" : 3.6,\"Pineapple\" : 10,\"Orange\" : 1}\n",
        "    total = 0\n",
        "    for fruit in fruitsItem:\n",
        "       bought = int(input(f\"\\nHow Much You Want To Buy {fruit} : \"))\n",
        "       total += (fruitsItem[fruit] * bought)\n",
        "    print(f\"\\nThe Total of All Fruits : ${total}\")\n",
        "if __name__ == '__main__':\n",
        "    main()"
      ],
      "metadata": {
        "colab": {
          "base_uri": "https://localhost:8080/"
        },
        "id": "4X4kGPxLof7T",
        "outputId": "d1ae54cb-44fc-44ec-b3a5-ddbda403d7bf"
      },
      "execution_count": null,
      "outputs": [
        {
          "output_type": "stream",
          "name": "stdout",
          "text": [
            "\n",
            "How Much You Want To Buy Apple : 12\n",
            "\n",
            "How Much You Want To Buy Melon : 5\n",
            "\n",
            "How Much You Want To Buy Mango : 2\n",
            "\n",
            "How Much You Want To Buy Pineapple : 0\n",
            "\n",
            "How Much You Want To Buy Orange : 1\n",
            "\n",
            "The Total of All Fruits : $36.2\n"
          ]
        }
      ]
    },
    {
      "cell_type": "markdown",
      "source": [
        "#### **. 03_powerful_passwords**"
      ],
      "metadata": {
        "id": "fpP4GEoXn9zT"
      }
    },
    {
      "cell_type": "code",
      "source": [
        "from hashlib import sha256\n",
        "def hashPassword(Pasword):\n",
        "    return sha256(Pasword.encode()).hexdigest()\n",
        "\n",
        "def login(email,Check_password,store_Email):\n",
        "    for email in store_Email:\n",
        "        if store_Email[email] == hashPassword(Check_password):\n",
        "            return True\n",
        "    return False\n",
        "\n",
        "def main():\n",
        "    stored_Email = {\n",
        "        \"example@gmail\" : hashPassword(\"example\"),\n",
        "        \"abc@gmail\" : hashPassword(\"hello\"),\n",
        "        \"hi@gmail\" : hashPassword(\"222321\")\n",
        "    }\n",
        "\n",
        "    print(\"\\n\",login('example@gmail',\"example\",stored_Email))\n",
        "    print(login('example@gmail',\"king\",stored_Email))\n",
        "\n",
        "    print(\"\\n\",login('abc@gmail',\"hello\",stored_Email))\n",
        "    print(login('abc@gmail',\"Hello\",stored_Email))\n",
        "\n",
        "    print(\"\\n\",login('hi@gmail',\"222321\",stored_Email))\n",
        "    print(login('hi@gmail',\"23123\",stored_Email))\n",
        "\n",
        "if __name__ == '__main__':\n",
        "    main()"
      ],
      "metadata": {
        "id": "M0fdvk6Iohej",
        "colab": {
          "base_uri": "https://localhost:8080/"
        },
        "outputId": "0f517c73-483b-4ff8-eec9-3f8ed6c1fdf3"
      },
      "execution_count": null,
      "outputs": [
        {
          "output_type": "stream",
          "name": "stdout",
          "text": [
            "\n",
            " True\n",
            "False\n",
            "\n",
            " True\n",
            "False\n",
            "\n",
            " True\n",
            "False\n"
          ]
        }
      ]
    }
  ]
}