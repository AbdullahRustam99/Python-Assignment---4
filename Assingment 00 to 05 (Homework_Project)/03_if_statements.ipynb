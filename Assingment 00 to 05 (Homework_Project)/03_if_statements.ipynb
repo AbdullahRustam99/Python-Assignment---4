{
  "nbformat": 4,
  "nbformat_minor": 0,
  "metadata": {
    "colab": {
      "provenance": []
    },
    "kernelspec": {
      "name": "python3",
      "display_name": "Python 3"
    },
    "language_info": {
      "name": "python"
    }
  },
  "cells": [
    {
      "cell_type": "markdown",
      "source": [
        "# **03_if_statements :  [Colab link](https://colab.research.google.com/drive/1638cQJEgBUfwn9j4GbVFHok1zcgIRVvy)**  "
      ],
      "metadata": {
        "id": "QO8D_bYSKYOu"
      }
    },
    {
      "cell_type": "markdown",
      "source": [
        "#### **. 01_print_events**"
      ],
      "metadata": {
        "id": "9QKMXCj5njzq"
      }
    },
    {
      "cell_type": "code",
      "source": [
        "def main():\n",
        "    evenNum = []\n",
        "    for i in range(40):\n",
        "        if i % 2 == 0:\n",
        "            evenNum.append(i)\n",
        "    print(\"The list of Even Numbers : \",evenNum)\n",
        "if __name__ == '__main__':\n",
        "    main()"
      ],
      "metadata": {
        "colab": {
          "base_uri": "https://localhost:8080/"
        },
        "id": "TnOZYm3noerm",
        "outputId": "f729117b-74e3-482b-db51-32f1e7bf2598"
      },
      "execution_count": null,
      "outputs": [
        {
          "output_type": "stream",
          "name": "stdout",
          "text": [
            "The list of Even Numbers :  [0, 2, 4, 6, 8, 10, 12, 14, 16, 18, 20, 22, 24, 26, 28, 30, 32, 34, 36, 38]\n"
          ]
        }
      ]
    },
    {
      "cell_type": "markdown",
      "source": [
        "#### **. 02_international_voting_age**"
      ],
      "metadata": {
        "id": "cDpoYPJGn-he"
      }
    },
    {
      "cell_type": "code",
      "source": [
        "def main():\n",
        "    age = int(input(\"\\nWhat Is Your Age? : \"))\n",
        "\n",
        "    if age >= 16:\n",
        "        print(\"\\nYou Are Eligible To Vote in Peturksbouipo Where voteing age is 16\")\n",
        "    else :\n",
        "        print(\"\\nYou Are Not Eligible To Vote in Peturksbouipo Where voteing age is 16\")\n",
        "\n",
        "    if  age >= 25:\n",
        "        print(\"\\nYou Are Eligible To Vote in Stanlau Where voteing age is 25\")\n",
        "    else:\n",
        "        print(\"\\nYou Are Not Eligible To Vote in Stanlau Where voteing age is 25\")\n",
        "    if age >= 48:\n",
        "        print(\"\\nYou Are Eligible To Vote in Mayengua Where voteing age is 48\")\n",
        "    else:\n",
        "        print(\"\\nYou Are Not Eligible To Vote in Mayengua Where voteing age is 48\")\n",
        "    if age < 16:\n",
        "        print(\"\\nYou Are Not Eligible To Vote in any Country\")\n",
        "\n",
        "if __name__ == '__main__':\n",
        "    main()"
      ],
      "metadata": {
        "colab": {
          "base_uri": "https://localhost:8080/"
        },
        "id": "VhrCh0x_ofTD",
        "outputId": "985dceac-0ab7-431c-ebc7-2e0cc5ca5c50"
      },
      "execution_count": null,
      "outputs": [
        {
          "output_type": "stream",
          "name": "stdout",
          "text": [
            "\n",
            "What Is Your Age? : 25\n",
            "\n",
            "You Are Eligible To Vote in Peturksbouipo Where voteing age is 16\n",
            "\n",
            "You Are Eligible To Vote in Stanlau Where voteing age is 25\n",
            "\n",
            "You Are Not Eligible To Vote in Mayengua Where voteing age is 48\n"
          ]
        }
      ]
    },
    {
      "cell_type": "markdown",
      "source": [
        "#### **. 03_leap_year**"
      ],
      "metadata": {
        "id": "AzpXXJF2n-Vh"
      }
    },
    {
      "cell_type": "code",
      "source": [
        "def main():\n",
        "    year = int(input(\"Enter Year TO check Leap Year : \"))\n",
        "    if year % 4 == 0:\n",
        "        if year % 100 == 0:\n",
        "            if year % 400 == 0:\n",
        "                print(f\"This is Leap Year : {year}\")\n",
        "            else:\n",
        "                print(f\"This is Not Leap Year : {year} \")\n",
        "        else:\n",
        "             print(f\"This is Leap Year : {year}\")\n",
        "    else:\n",
        "        print(f\"This is Not Leap Year : {year}\")\n",
        "if __name__ == '__main__':\n",
        "    main()"
      ],
      "metadata": {
        "colab": {
          "base_uri": "https://localhost:8080/"
        },
        "id": "4X4kGPxLof7T",
        "outputId": "6ac1cdaa-96a8-4e56-c5b1-83a1459c5621"
      },
      "execution_count": null,
      "outputs": [
        {
          "output_type": "stream",
          "name": "stdout",
          "text": [
            "Enter Year TO check Leap Year : 2017\n",
            "This is Not Leap Year : 2017\n"
          ]
        }
      ]
    },
    {
      "cell_type": "markdown",
      "source": [
        "#### **. 04_tall_enough_to_ride**"
      ],
      "metadata": {
        "id": "C-2DtA_On-Cj"
      }
    },
    {
      "cell_type": "code",
      "source": [
        "MIN_HIGHT_m = 50\n",
        "def main():\n",
        "    height = int(input(\"Enter Your Hight in meter: \"))\n",
        "\n",
        "    if height >= MIN_HIGHT_m:\n",
        "        print(\"\\nYou Can Ride Your Hight Enough\")\n",
        "    else:\n",
        "        print(\"\\nYou Can Not Ride Sorry\")\n",
        "if __name__ == '__main__':\n",
        "    main()"
      ],
      "metadata": {
        "id": "QWW6b49Wog5l",
        "colab": {
          "base_uri": "https://localhost:8080/"
        },
        "outputId": "6b6a4003-d639-4b5b-8790-f5f94bbff8a7"
      },
      "execution_count": 7,
      "outputs": [
        {
          "output_type": "stream",
          "name": "stdout",
          "text": [
            "Enter Your Hight in meter: 70\n",
            "\n",
            "You Can Ride Your Hight Enough\n"
          ]
        }
      ]
    },
    {
      "cell_type": "markdown",
      "source": [
        "#### **. 05_random_numbers**"
      ],
      "metadata": {
        "id": "fpP4GEoXn9zT"
      }
    },
    {
      "cell_type": "code",
      "source": [
        "import random\n",
        "MIN_NUM = 1\n",
        "MAX_NUM= 100\n",
        "def main():\n",
        "    histroy = []\n",
        "    num = int(input(\"Enter Range Of Numbers : \"))\n",
        "    numLst = []\n",
        "    histroy.append()\n",
        "    for i in range(num):\n",
        "        numLst.append(random.randint(MIN_NUM,MAX_NUM))\n",
        "    print(f\"\\nThe Random Numbers Are : {numLst}\")\n",
        "if __name__ == '__main__':\n",
        "    main()"
      ],
      "metadata": {
        "id": "M0fdvk6Iohej",
        "colab": {
          "base_uri": "https://localhost:8080/"
        },
        "outputId": "54618270-5200-4e3f-9ddd-7138494882c7"
      },
      "execution_count": 6,
      "outputs": [
        {
          "output_type": "stream",
          "name": "stdout",
          "text": [
            "Enter Range Of Numbers : 10\n",
            "\n",
            "The Random Numbers Are : [5, 89, 57, 2, 24, 67, 37, 59, 26, 43]\n"
          ]
        }
      ]
    }
  ]
}