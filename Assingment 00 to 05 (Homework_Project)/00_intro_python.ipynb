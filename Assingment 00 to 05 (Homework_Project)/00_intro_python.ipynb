{
  "nbformat": 4,
  "nbformat_minor": 0,
  "metadata": {
    "colab": {
      "provenance": []
    },
    "kernelspec": {
      "name": "python3",
      "display_name": "Python 3"
    },
    "language_info": {
      "name": "python"
    }
  },
  "cells": [
    {
      "cell_type": "markdown",
      "source": [
        "# **00_intro_python :  [Colab link](https://colab.research.google.com/drive/1Cgzt8mo2N3aqM6SIAtLlShDK02sVHBx1)**  "
      ],
      "metadata": {
        "id": "QO8D_bYSKYOu"
      }
    },
    {
      "cell_type": "markdown",
      "source": [
        "#### **. 01_add_two_numbers**"
      ],
      "metadata": {
        "id": "9QKMXCj5njzq"
      }
    },
    {
      "cell_type": "code",
      "source": [
        "def main():\n",
        "    print (\"Enter Number To Add!!\")\n",
        "    num1 : int = int(input(\"\\nEnter First Number : \"))\n",
        "    num2 : int = int(input(\"Enter Secound Number : \"))\n",
        "    print (\"\\nThe Total of Your Enterd Number is :\",num1 + num2)\n",
        "if __name__ == '__main__':\n",
        "    main()"
      ],
      "metadata": {
        "colab": {
          "base_uri": "https://localhost:8080/"
        },
        "id": "TnOZYm3noerm",
        "outputId": "d1c9adac-8a9c-4e2e-e099-f0ed77064e99"
      },
      "execution_count": null,
      "outputs": [
        {
          "output_type": "stream",
          "name": "stdout",
          "text": [
            "Enter Number To Add!!\n",
            "\n",
            "Enter First Number :42\n",
            "Enter Secound Number :32\n",
            "\n",
            "The Total of Your Enterd Number is : 74\n"
          ]
        }
      ]
    },
    {
      "cell_type": "markdown",
      "source": [
        "#### **. 02_agreement_bot**"
      ],
      "metadata": {
        "id": "cDpoYPJGn-he"
      }
    },
    {
      "cell_type": "code",
      "source": [
        "def main():\n",
        "    print(\"Hi Dear Friend\")\n",
        "    qus : str = input(\"\\nWhat Is Your Favorite Animal? : \")\n",
        "    print(f\"\\nOhh Really! '{qus.capitalize()}' is also my favorite animal.\")\n",
        "if __name__ == '__main__':\n",
        "    main()"
      ],
      "metadata": {
        "colab": {
          "base_uri": "https://localhost:8080/"
        },
        "id": "VhrCh0x_ofTD",
        "outputId": "fc7ae120-2e32-47ce-90d1-7bd2c9a432ea"
      },
      "execution_count": null,
      "outputs": [
        {
          "output_type": "stream",
          "name": "stdout",
          "text": [
            "Hi Dear Friend\n",
            "\n",
            "What Is Your Favorite Animal? : cow\n",
            "\n",
            "Ohh Really! 'Cow' is also my favorite animal.\n"
          ]
        }
      ]
    },
    {
      "cell_type": "markdown",
      "source": [
        "#### **. 03_fahrenheit_to_celsius**"
      ],
      "metadata": {
        "id": "AzpXXJF2n-Vh"
      }
    },
    {
      "cell_type": "code",
      "source": [
        "def main():\n",
        "   print(\"Welcome To Temperatures Converter\")\n",
        "   print(\"\\nFahrenheit To Celsius = 1\")\n",
        "   print(\"Celsius To Fahrenheit = 2\")\n",
        "   print(\"EXIT = 3\")\n",
        "   condition = True\n",
        "   while condition :\n",
        "         choice : int = int(input(\"\\nEnter Your Choice : \"))\n",
        "         if choice == 1:\n",
        "             TFahrenheit = int(input(\"\\nEnter Temperature In Fahrenheit : \"))\n",
        "             TCelsius = (TFahrenheit - 32) * 5.0/9.0\n",
        "             print(f\"{TFahrenheit}F is Equal to {TCelsius}C\")\n",
        "         elif choice == 2:\n",
        "              TCelsius = int(input(\"\\nEnter Temperature In Celsius : \"))\n",
        "              TFahrenheit = TCelsius * 9/5 + 32\n",
        "              print(f\"{TCelsius}C is Equal to {TFahrenheit}F\")\n",
        "         elif choice == 3:\n",
        "             print(\"\\nGOODY BY\")\n",
        "             condition = False\n",
        "         else:\n",
        "              print(\"\\nInvalid Choice !!\")\n",
        "if __name__ == '__main__':\n",
        "    main()"
      ],
      "metadata": {
        "colab": {
          "base_uri": "https://localhost:8080/"
        },
        "id": "4X4kGPxLof7T",
        "outputId": "4cf58224-1f44-4379-ccbe-76a67c91b1b4"
      },
      "execution_count": null,
      "outputs": [
        {
          "output_type": "stream",
          "name": "stdout",
          "text": [
            "Welcome To Temperatures Converter\n",
            "\n",
            "Fahrenheit To Celsius = 1\n",
            "Celsius To Fahrenheit = 2\n",
            "EXIT = 3\n",
            "\n",
            "Enter Your Choice : 1\n",
            "\n",
            "Enter Temperature In Fahrenheit : 23232\n",
            "23232F is Equal to 12888.888888888889C\n",
            "\n",
            "Enter Your Choice : 2\n",
            "\n",
            "Enter Temperature In Celsius : 32332\n",
            "32332C is Equal to 58229.6F\n",
            "\n",
            "Enter Your Choice : 4324\n",
            "\n",
            "Invalid Choice !!\n",
            "\n",
            "Enter Your Choice : 3\n",
            "\n",
            "GOODY BY\n"
          ]
        }
      ]
    },
    {
      "cell_type": "markdown",
      "source": [
        "#### **. 04_how_old_are_they**"
      ],
      "metadata": {
        "id": "C-2DtA_On-Cj"
      }
    },
    {
      "cell_type": "code",
      "source": [
        "def main():\n",
        "    Anton = 21\n",
        "    Beth  = Anton + 6\n",
        "    Chen = Beth + 20\n",
        "    Drew = Chen + Beth\n",
        "    Ethan = Chen\n",
        "\n",
        "    print(f\"Anton is  '{Anton }' years old\")\n",
        "    print(f\"Beth is '{ Beth }' years old\")\n",
        "    print(f\"Chen is  '{Chen }' years old\")\n",
        "    print(f\"Drew is '{ Drew }' years old\")\n",
        "    print(f\"Ethan is  '{Ethan }' years old\")\n",
        "if __name__ == '__main__':\n",
        "    main()"
      ],
      "metadata": {
        "id": "QWW6b49Wog5l",
        "colab": {
          "base_uri": "https://localhost:8080/"
        },
        "outputId": "59daa9b0-c8d3-40bc-8b90-39777dea7f00"
      },
      "execution_count": null,
      "outputs": [
        {
          "output_type": "stream",
          "name": "stdout",
          "text": [
            "Anton is  '21' years old\n",
            "Beth is '27' years old\n",
            "Chen is  '47' years old\n",
            "Drew is '74' years old\n",
            "Ethan is  '47' years old\n"
          ]
        }
      ]
    },
    {
      "cell_type": "markdown",
      "source": [
        "#### **. 05_triangle_perimeter**"
      ],
      "metadata": {
        "id": "fpP4GEoXn9zT"
      }
    },
    {
      "cell_type": "code",
      "source": [
        "def main():\n",
        "    print(\"Welcome To Triangle Perimeter\")\n",
        "    side1 = int(input(\"\\nEnter Side 1 : \"))\n",
        "    side2 = int(input(\"Enter Side 2 : \"))\n",
        "    side3 = int(input(\"Enter Side 3 : \"))\n",
        "\n",
        "    sum = side1 + side2 + side3\n",
        "    print(f\"\\nThe Perimeter of Triangle is = {sum}\")\n",
        "if __name__ == '__main__':\n",
        "    main()"
      ],
      "metadata": {
        "id": "M0fdvk6Iohej",
        "colab": {
          "base_uri": "https://localhost:8080/"
        },
        "outputId": "7bce2489-f00d-4416-c1bd-ab9e78b36c9c"
      },
      "execution_count": null,
      "outputs": [
        {
          "output_type": "stream",
          "name": "stdout",
          "text": [
            "Welcome To Triangle Perimeter\n",
            "\n",
            "Enter Side 1 : 12\n",
            "Enter Side 2 : 23\n",
            "Enter Side 3 : 43\n",
            "\n",
            "The Perimeter of Triangle is = 78\n"
          ]
        }
      ]
    },
    {
      "cell_type": "markdown",
      "source": [
        "#### **. 06_square_number**"
      ],
      "metadata": {
        "id": "wfwX1yzCn9bq"
      }
    },
    {
      "cell_type": "code",
      "source": [
        "def main():\n",
        "    print(\"Square The Number\")\n",
        "    number = int(input(\"\\nEnter a Number : \"))\n",
        "    square = int(input(\"Enter a Power : \"))\n",
        "    print(f\"\\nThe Square of Number {number}^{square} is = {number ** square}\")\n",
        "if __name__ == '__main__':\n",
        "    main()"
      ],
      "metadata": {
        "id": "x6Hchd6YoiEo",
        "colab": {
          "base_uri": "https://localhost:8080/"
        },
        "outputId": "5e9ad302-409b-44f7-9980-a0a3a85dcfed"
      },
      "execution_count": null,
      "outputs": [
        {
          "output_type": "stream",
          "name": "stdout",
          "text": [
            "Square The Number\n",
            "\n",
            "Enter a Number : 24\n",
            "Enter a Power : 2\n",
            "\n",
            "The Square of Number 24^2 is = 576\n"
          ]
        }
      ]
    }
  ]
}