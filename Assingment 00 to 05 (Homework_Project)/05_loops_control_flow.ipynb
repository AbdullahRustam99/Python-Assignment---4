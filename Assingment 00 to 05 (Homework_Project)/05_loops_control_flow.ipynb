{
  "nbformat": 4,
  "nbformat_minor": 0,
  "metadata": {
    "colab": {
      "provenance": []
    },
    "kernelspec": {
      "name": "python3",
      "display_name": "Python 3"
    },
    "language_info": {
      "name": "python"
    }
  },
  "cells": [
    {
      "cell_type": "markdown",
      "source": [
        "# **05_loops_control_flow :  [Colab link](https://colab.research.google.com/drive/1-KXwFzwfYprSEGgygaDaza94iAdTx5Sc)**  "
      ],
      "metadata": {
        "id": "QO8D_bYSKYOu"
      }
    },
    {
      "cell_type": "markdown",
      "source": [
        "#### **. 00_guess_my_number**"
      ],
      "metadata": {
        "id": "9QKMXCj5njzq"
      }
    },
    {
      "cell_type": "code",
      "source": [
        "import random\n",
        "def main():\n",
        "    randomNum = random.randint(1,100)\n",
        "    print(\"Guess The Number !\")\n",
        "    while True:\n",
        "          guess = int(input(\"\\nEnter Your Number Guess : \"))\n",
        "          if guess == randomNum:\n",
        "             print(\"\\n\\tYou Guess Correct Number !\")\n",
        "             break\n",
        "          else:\n",
        "              if guess > randomNum:\n",
        "                  print(\"\\n\\tYour Guess Is Hight\")\n",
        "              else:\n",
        "                  print(\"\\n\\tYour Guess Is Low\")\n",
        "if __name__ == '__main__':\n",
        "    main()"
      ],
      "metadata": {
        "colab": {
          "base_uri": "https://localhost:8080/"
        },
        "id": "TnOZYm3noerm",
        "outputId": "0366f5fc-46d6-4dba-8d46-160b0a2cba81"
      },
      "execution_count": 8,
      "outputs": [
        {
          "output_type": "stream",
          "name": "stdout",
          "text": [
            "Guess The Number !\n",
            "\n",
            "Enter Your Number Guess : 20\n",
            "\n",
            "\tYour Guess Is Low\n",
            "\n",
            "Enter Your Number Guess : 40\n",
            "\n",
            "\tYour Guess Is Hight\n",
            "\n",
            "Enter Your Number Guess : 30\n",
            "\n",
            "\tYour Guess Is Low\n",
            "\n",
            "Enter Your Number Guess : 35\n",
            "\n",
            "\tYour Guess Is Low\n",
            "\n",
            "Enter Your Number Guess : 37\n",
            "\n",
            "\tYou Guess Correct Number !\n"
          ]
        }
      ]
    },
    {
      "cell_type": "markdown",
      "source": [
        "#### **. 01_fibonacci**"
      ],
      "metadata": {
        "id": "cDpoYPJGn-he"
      }
    },
    {
      "cell_type": "code",
      "source": [
        "def main():\n",
        "    a = 0\n",
        "    b = 1\n",
        "    while a < 10000:\n",
        "      print(a)\n",
        "      next = a+b\n",
        "      a = b\n",
        "      b = next\n",
        "\n",
        "if __name__ == '__main__':\n",
        "    main()"
      ],
      "metadata": {
        "colab": {
          "base_uri": "https://localhost:8080/"
        },
        "id": "VhrCh0x_ofTD",
        "outputId": "61f46767-5e35-4c3e-9f5c-a5b1fbb3c84f"
      },
      "execution_count": 13,
      "outputs": [
        {
          "output_type": "stream",
          "name": "stdout",
          "text": [
            "0\n",
            "1\n",
            "1\n",
            "2\n",
            "3\n",
            "5\n",
            "8\n",
            "13\n",
            "21\n",
            "34\n",
            "55\n",
            "89\n",
            "144\n",
            "233\n",
            "377\n",
            "610\n",
            "987\n",
            "1597\n",
            "2584\n",
            "4181\n",
            "6765\n"
          ]
        }
      ]
    },
    {
      "cell_type": "markdown",
      "source": [
        "#### **. 02_print_events**"
      ],
      "metadata": {
        "id": "AzpXXJF2n-Vh"
      }
    },
    {
      "cell_type": "code",
      "source": [
        "def main():\n",
        "    for i in range(50):\n",
        "      if i % 2 == 0:\n",
        "        print(\"EVEN NUMBERS \\t:  \",i)\n",
        "if __name__ == '__main__':\n",
        "    main()"
      ],
      "metadata": {
        "colab": {
          "base_uri": "https://localhost:8080/"
        },
        "id": "4X4kGPxLof7T",
        "outputId": "499467d3-e56b-4fd7-b1e1-4b1c5f7a99d8"
      },
      "execution_count": 20,
      "outputs": [
        {
          "output_type": "stream",
          "name": "stdout",
          "text": [
            "EVEN NUMBERS \t:   0\n",
            "EVEN NUMBERS \t:   2\n",
            "EVEN NUMBERS \t:   4\n",
            "EVEN NUMBERS \t:   6\n",
            "EVEN NUMBERS \t:   8\n",
            "EVEN NUMBERS \t:   10\n",
            "EVEN NUMBERS \t:   12\n",
            "EVEN NUMBERS \t:   14\n",
            "EVEN NUMBERS \t:   16\n",
            "EVEN NUMBERS \t:   18\n",
            "EVEN NUMBERS \t:   20\n",
            "EVEN NUMBERS \t:   22\n",
            "EVEN NUMBERS \t:   24\n",
            "EVEN NUMBERS \t:   26\n",
            "EVEN NUMBERS \t:   28\n",
            "EVEN NUMBERS \t:   30\n",
            "EVEN NUMBERS \t:   32\n",
            "EVEN NUMBERS \t:   34\n",
            "EVEN NUMBERS \t:   36\n",
            "EVEN NUMBERS \t:   38\n",
            "EVEN NUMBERS \t:   40\n",
            "EVEN NUMBERS \t:   42\n",
            "EVEN NUMBERS \t:   44\n",
            "EVEN NUMBERS \t:   46\n",
            "EVEN NUMBERS \t:   48\n"
          ]
        }
      ]
    },
    {
      "cell_type": "markdown",
      "source": [
        "#### **. 03_wholesome_machine**"
      ],
      "metadata": {
        "id": "C-2DtA_On-Cj"
      }
    },
    {
      "cell_type": "code",
      "source": [
        "def main():\n",
        "    affirmation = \"I am capable of doing anything I put my mind to\"\n",
        "    while True:\n",
        "      print(affirmation)\n",
        "      user = input(\"\\nEnter the affirmation above : \")\n",
        "      if user == affirmation:\n",
        "          print(\"\\n\\tIt is correct !\")\n",
        "          break\n",
        "      else:\n",
        "          print(\"\\n\\tHmmm That was not the affirmation !\")\n",
        "if __name__ == '__main__':\n",
        "    main()"
      ],
      "metadata": {
        "id": "QWW6b49Wog5l",
        "colab": {
          "base_uri": "https://localhost:8080/"
        },
        "outputId": "2a66f425-d080-4739-c5bb-a4fa2265d95c"
      },
      "execution_count": 22,
      "outputs": [
        {
          "output_type": "stream",
          "name": "stdout",
          "text": [
            "I am capable of doing anything I put my mind to\n",
            "\n",
            "Enter the affirmation above : I am capable of doing anything i put my mind to\n",
            "\n",
            "\tHmmm That was not the affirmation !\n",
            "I am capable of doing anything I put my mind to\n",
            "\n",
            "Enter the affirmation above : I am capable of doing anything I put my mind to\n",
            "\n",
            "\tIt is correct !\n"
          ]
        }
      ]
    },
    {
      "cell_type": "markdown",
      "source": [
        "#### **. 04_liftoff**"
      ],
      "metadata": {
        "id": "fpP4GEoXn9zT"
      }
    },
    {
      "cell_type": "code",
      "source": [
        "def main():\n",
        "   for i in range(10):\n",
        "        print(-i+10)\n",
        "   print(\"Liftoff\")\n",
        "if __name__ == '__main__':\n",
        "    main()"
      ],
      "metadata": {
        "id": "M0fdvk6Iohej",
        "colab": {
          "base_uri": "https://localhost:8080/"
        },
        "outputId": "ea960acc-1b26-47ea-9e64-03ee71db5368"
      },
      "execution_count": 40,
      "outputs": [
        {
          "output_type": "stream",
          "name": "stdout",
          "text": [
            "10\n",
            "9\n",
            "8\n",
            "7\n",
            "6\n",
            "5\n",
            "4\n",
            "3\n",
            "2\n",
            "1\n",
            "Liftoff\n"
          ]
        }
      ]
    },
    {
      "cell_type": "markdown",
      "source": [
        "#### **. 05_double_it**"
      ],
      "metadata": {
        "id": "wfwX1yzCn9bq"
      }
    },
    {
      "cell_type": "code",
      "source": [
        "def main():\n",
        "    MAX_NUM = 100\n",
        "    num = int(input(\"Enter a number : \"))\n",
        "    for i in range(MAX_NUM):\n",
        "        print(f\"{i} Double = {num}\")\n",
        "        num *= 2\n",
        "        if num > MAX_NUM:\n",
        "            break\n",
        "if __name__ == '__main__':\n",
        "    main()"
      ],
      "metadata": {
        "id": "x6Hchd6YoiEo",
        "colab": {
          "base_uri": "https://localhost:8080/"
        },
        "outputId": "b1fbd3e1-66cd-4d2e-99a7-c500771b5283"
      },
      "execution_count": 45,
      "outputs": [
        {
          "output_type": "stream",
          "name": "stdout",
          "text": [
            "Enter a number : 5\n",
            "5\n",
            "10\n",
            "20\n",
            "40\n",
            "80\n"
          ]
        }
      ]
    }
  ]
}