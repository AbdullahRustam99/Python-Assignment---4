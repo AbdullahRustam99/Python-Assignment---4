{
  "nbformat": 4,
  "nbformat_minor": 0,
  "metadata": {
    "colab": {
      "provenance": []
    },
    "kernelspec": {
      "name": "python3",
      "display_name": "Python 3"
    },
    "language_info": {
      "name": "python"
    }
  },
  "cells": [
    {
      "cell_type": "markdown",
      "source": [
        "# **01_expressions : [Colab Link](https://colab.research.google.com/drive/1J33O8I0apIGKlRFZO5uZ7xrYf_3Mojdd)**"
      ],
      "metadata": {
        "id": "aTCNklhqCr2X"
      }
    },
    {
      "cell_type": "markdown",
      "source": [
        "#### **. 01_dicesimulator**"
      ],
      "metadata": {
        "id": "sUoeV24JDEpd"
      }
    },
    {
      "cell_type": "code",
      "source": [
        "import random\n",
        "print(\"Dice Roll Simulator\")\n",
        "def roll():\n",
        "    dice1 = random.randint(1,6)\n",
        "    dice2 = random.randint(1,6)\n",
        "    return dice1, dice2\n",
        "def main():\n",
        "    di1, di2 = roll()\n",
        "    print(f'\\nDice 1 : {di1}')\n",
        "    print(f'Dice 2 : {di2}')\n",
        "    print(f'\\nTotal of Dices : {di1 + di2}')\n",
        "if __name__ == '__main__':\n",
        "    main()"
      ],
      "metadata": {
        "id": "Xw6UAEm3EHLF",
        "colab": {
          "base_uri": "https://localhost:8080/"
        },
        "outputId": "ca993e3f-ab56-4eb1-b0ad-a0bafe553b76"
      },
      "execution_count": null,
      "outputs": [
        {
          "output_type": "stream",
          "name": "stdout",
          "text": [
            "Dice Roll Simulator\n",
            "\n",
            "Dice 1 : 3\n",
            "Dice 2 : 5\n",
            "\n",
            "Total of Dices : 8\n"
          ]
        }
      ]
    },
    {
      "cell_type": "markdown",
      "source": [
        "#### **. 02_e=mc2**\n",
        "\n",
        "\n"
      ],
      "metadata": {
        "id": "-8JQPlt1DEe_"
      }
    },
    {
      "cell_type": "code",
      "source": [
        "def main():\n",
        "    print(\"ENERGY CALCULATOR \")\n",
        "    C = 299792458\n",
        "    mass = int(input(\"\\n Enter Mass In 'Kg' : \"))\n",
        "    calculate = round(mass * C ** 2)\n",
        "    print(f\"Total Energy = {calculate:.2e} Joules\")\n",
        "\n",
        "if __name__ == '__main__':\n",
        "    main()"
      ],
      "metadata": {
        "id": "K48iSUcpEIXV",
        "colab": {
          "base_uri": "https://localhost:8080/"
        },
        "outputId": "0acd4e5c-5821-43f0-9044-775ae827f335"
      },
      "execution_count": null,
      "outputs": [
        {
          "output_type": "stream",
          "name": "stdout",
          "text": [
            "WELCOM TO ENERGY & MASS CALCULATOR \n",
            "\n",
            " Enter Mass In 'Kg' : 2\n",
            "Total Energy = 1.80e+17 Joules\n"
          ]
        }
      ]
    },
    {
      "cell_type": "markdown",
      "source": [
        "#### **. 03_feet_to_inches**"
      ],
      "metadata": {
        "id": "6zlE-70QDES6"
      }
    },
    {
      "cell_type": "code",
      "source": [
        "def main():\n",
        "    print(\"Feet To Inches Converter\")\n",
        "    con: bool =True\n",
        "    while con:\n",
        "          print(\"\\nConvert Feet To Inches = 1\")\n",
        "          print(\"Convert Inches To Feet = 2\")\n",
        "          print(\"Exit = E\")\n",
        "          cho = input(\"   Enter Your Choice : \")\n",
        "          if cho == '1':\n",
        "              feet = int(input(\"\\nEnter Feets To convert : \"))\n",
        "              inches = feet * 12\n",
        "              print(f\"The '{feet}' Feet is equal to '{inches}' Inches\")\n",
        "          elif cho == '2':\n",
        "              inches = int(input(\"\\nEnter Inches To convert : \"))\n",
        "              feet = round(inches / 12)\n",
        "              print(f\"The '{inches}' Inches is equal to '{feet}' Feet\")\n",
        "          elif cho.lower() == \"e\":\n",
        "              con = False\n",
        "              print(\"\\nThanks Good By !\")\n",
        "          else:\n",
        "              print(\"\\nInvalid Choice !!\")\n",
        "\n",
        "if __name__ == '__main__':\n",
        "    main()"
      ],
      "metadata": {
        "id": "7uccLREbEI4Q",
        "colab": {
          "base_uri": "https://localhost:8080/"
        },
        "outputId": "7523d938-c74b-446b-c11f-767133eb1ee5"
      },
      "execution_count": null,
      "outputs": [
        {
          "output_type": "stream",
          "name": "stdout",
          "text": [
            "Feet To Inches Converter\n",
            "\n",
            "Convert Feet To Inches = 1\n",
            "Convert Inches To Feet = 2\n",
            "Exit = E\n",
            "   Enter Your Choice : 1\n",
            "\n",
            "Enter Feets To convert : 120\n",
            "The '120' Feet is equal to '1440' Inches\n",
            "\n",
            "Convert Feet To Inches = 1\n",
            "Convert Inches To Feet = 2\n",
            "Exit = E\n",
            "   Enter Your Choice : 2\n",
            "\n",
            "Enter Inches To convert : 13131\n",
            "The '13131' Inches is equal to '1094' Feet\n",
            "\n",
            "Convert Feet To Inches = 1\n",
            "Convert Inches To Feet = 2\n",
            "Exit = E\n",
            "   Enter Your Choice : t\n",
            "\n",
            "Invalid Choice !!\n",
            "\n",
            "Convert Feet To Inches = 1\n",
            "Convert Inches To Feet = 2\n",
            "Exit = E\n",
            "   Enter Your Choice : e\n",
            "\n",
            "Thanks Good By !\n"
          ]
        }
      ]
    },
    {
      "cell_type": "markdown",
      "source": [
        "#### **. 04_pythagorean_theorem**"
      ],
      "metadata": {
        "id": "sjIJ8Nv0DEJV"
      }
    },
    {
      "cell_type": "code",
      "source": [
        "def main():\n",
        "    AB = int(input(\"Enter Length Of Side AB : \"))\n",
        "    AC = int(input(\"Enter Length Of Side AC : \"))\n",
        "    BC = round((AB ** 2 + AC ** 2) ** 0.5)\n",
        "    print(f\"\\n   The length of Side BC = {BC}\")\n",
        "if __name__ == '__main__':\n",
        "    main()"
      ],
      "metadata": {
        "id": "b8kNlTIREJWs",
        "colab": {
          "base_uri": "https://localhost:8080/"
        },
        "outputId": "40e1aeea-3ad6-4380-c24f-23d5bfdd76d4"
      },
      "execution_count": null,
      "outputs": [
        {
          "output_type": "stream",
          "name": "stdout",
          "text": [
            "Enter Length Of Side AB : 20\n",
            "Enter Length Of Side AC : 20\n",
            "\n",
            "   The length of Side BC = 28\n"
          ]
        }
      ]
    },
    {
      "cell_type": "markdown",
      "source": [
        "#### **. 05_remainder_division**"
      ],
      "metadata": {
        "id": "80sHdPJuDD-M"
      }
    },
    {
      "cell_type": "code",
      "source": [
        "def main():\n",
        "    num1 = int(input(\"Enter First Number to Divide : \"))\n",
        "    num2 = int(input(\"Enter Second Number to Divide by : \"))\n",
        "    div = round(num1/num2)\n",
        "    rem = round(num1%num2)\n",
        "    print(f\"\\n  The Result of Division is '{div}' and Reminder of Division is '{rem}'\")\n",
        "\n",
        "\n",
        "if __name__ == '__main__':\n",
        "    main()"
      ],
      "metadata": {
        "id": "D2vGcxUYEJ0W",
        "colab": {
          "base_uri": "https://localhost:8080/"
        },
        "outputId": "14545c66-5542-40ae-ee11-4d0bed147d82"
      },
      "execution_count": null,
      "outputs": [
        {
          "output_type": "stream",
          "name": "stdout",
          "text": [
            "Enter First Number to Divide : 23\n",
            "Enter Second Number to Divide by : 7\n",
            "\n",
            "  The Result of Division is '3' and Reminder of Division is '2'\n"
          ]
        }
      ]
    },
    {
      "cell_type": "markdown",
      "source": [
        "#### **. 06_rolldice**"
      ],
      "metadata": {
        "id": "7nw0it9wDDz1"
      }
    },
    {
      "cell_type": "code",
      "source": [
        "import random\n",
        "def roll():\n",
        "    dice1 = random.randint(1,6)\n",
        "    dice2 = random.randint(1,6)\n",
        "    return dice1, dice2\n",
        "def main():\n",
        "    di1 ,di2 = roll()\n",
        "    print(f'\\nThe Dice 1 Number: {di1}')\n",
        "    print(f'The Dice 2 Number: {di2}')\n",
        "    print(f'\\nTotal of Dices 1 & 2 : {di1 + di2}')\n",
        "if __name__ == '__main__':\n",
        "    main()"
      ],
      "metadata": {
        "id": "hsh9tW8GEKTx",
        "colab": {
          "base_uri": "https://localhost:8080/"
        },
        "outputId": "3c2a7de3-e263-43ce-f8d8-1acc64b89fd4"
      },
      "execution_count": null,
      "outputs": [
        {
          "output_type": "stream",
          "name": "stdout",
          "text": [
            "\n",
            "The Dice 1 Number: 2\n",
            "The Dice 2 Number: 5\n",
            "\n",
            "Total of Dices 1 & 2 : 7\n"
          ]
        }
      ]
    },
    {
      "cell_type": "markdown",
      "source": [
        "#### **. 07_seconds_in_year**"
      ],
      "metadata": {
        "id": "ckyeSOYgDDqT"
      }
    },
    {
      "cell_type": "code",
      "source": [
        "def main():\n",
        "    days = 365\n",
        "    hours = 24\n",
        "    minutes = 60\n",
        "    seconds = 60\n",
        "\n",
        "    print(f\"There are \\\"{days * hours * minutes * seconds }\\\" seconds in a year\")\n",
        "\n",
        "if __name__ == '__main__':\n",
        "    main()"
      ],
      "metadata": {
        "id": "a4hLdhyNEKv1",
        "colab": {
          "base_uri": "https://localhost:8080/"
        },
        "outputId": "3bb08793-3e71-4fe0-b26f-5ed12fcb1a3d"
      },
      "execution_count": null,
      "outputs": [
        {
          "output_type": "stream",
          "name": "stdout",
          "text": [
            "There are \"31536000\" seconds in a year\n"
          ]
        }
      ]
    },
    {
      "cell_type": "markdown",
      "source": [
        "#### **. 08_tiny_mad_lib**"
      ],
      "metadata": {
        "id": "v9iBHKzoDDf5"
      }
    },
    {
      "cell_type": "code",
      "source": [
        "def main():\n",
        "    adjective = input(\"Enter An Adjective : \").upper()\n",
        "    noun = input(\"Enter A Noun : \").upper()\n",
        "    verb = input(\"Enter A Verb : \").upper()\n",
        "    LIB =[f\"The {adjective} {noun} decided to {verb} in the middle of the street.\",\n",
        "          f\"I walked into a {adjective} restaurant, and the waiter brought me a {noun} that started to {verb} on my plate!\",\n",
        "          f\"Scientists recently discovered a {adjective} {noun} that can {verb} faster than the speed of light!\",\n",
        "          f\"I went to a {adjective} carnival, where I saw a {noun} that could {verb} better than any human!\",\n",
        "          f\"My teacher gave me detention because I wrote about a {adjective} {noun} that can {verb} in my essay!\"]\n",
        "    ranNum = random.randint(0,4)\n",
        "    sentence = LIB[ranNum]\n",
        "    print(f\"\\n{sentence}\")\n",
        "\n",
        "if __name__ == '__main__':\n",
        "    main()"
      ],
      "metadata": {
        "id": "eBRIgLI2ELH7",
        "colab": {
          "base_uri": "https://localhost:8080/"
        },
        "outputId": "1a4a91f6-83fc-4ea8-96d0-2cfd5e87bc0f"
      },
      "execution_count": 42,
      "outputs": [
        {
          "output_type": "stream",
          "name": "stdout",
          "text": [
            "Enter An Adjective : fluffy\n",
            "Enter A Noun : cat\n",
            "Enter A Verb : Dance\n",
            "\n",
            "The FLUFFY CAT decided to DANCE in the middle of the street.\n"
          ]
        }
      ]
    }
  ]
}