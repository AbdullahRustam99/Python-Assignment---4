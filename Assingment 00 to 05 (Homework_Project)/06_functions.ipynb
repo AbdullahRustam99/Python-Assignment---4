{
  "nbformat": 4,
  "nbformat_minor": 0,
  "metadata": {
    "colab": {
      "provenance": []
    },
    "kernelspec": {
      "name": "python3",
      "display_name": "Python 3"
    },
    "language_info": {
      "name": "python"
    }
  },
  "cells": [
    {
      "cell_type": "markdown",
      "source": [
        "# **06_functions : [Colab Link](https://colab.research.google.com/drive/1NQJXirXGgWfQW9yZarhJGTWrmbVvHCDy)**"
      ],
      "metadata": {
        "id": "aTCNklhqCr2X"
      }
    },
    {
      "cell_type": "markdown",
      "source": [
        "#### **. 00_averages**"
      ],
      "metadata": {
        "id": "sUoeV24JDEpd"
      }
    },
    {
      "cell_type": "code",
      "source": [
        "def avarage(a, b):\n",
        "   avarage = (a + b) / 2\n",
        "   return avarage\n",
        "\n",
        "def main():\n",
        "    print(\"1.\",avarage(2,109))\n",
        "    print(\"2.\",avarage(5,23))\n",
        "    print(\"3.\",avarage(25,42))\n",
        "if __name__ == '__main__':\n",
        "    main()"
      ],
      "metadata": {
        "id": "Xw6UAEm3EHLF",
        "colab": {
          "base_uri": "https://localhost:8080/"
        },
        "outputId": "5382e624-811d-4da9-c25e-7fe57adead58"
      },
      "execution_count": 3,
      "outputs": [
        {
          "output_type": "stream",
          "name": "stdout",
          "text": [
            "1. 55.5\n",
            "2. 14.0\n",
            "3. 33.5\n"
          ]
        }
      ]
    },
    {
      "cell_type": "markdown",
      "source": [
        "#### **. 01_chaotic_counting**\n",
        "\n",
        "\n"
      ],
      "metadata": {
        "id": "-8JQPlt1DEe_"
      }
    },
    {
      "cell_type": "code",
      "source": [
        "import random\n",
        "\n",
        "def chaotic_counting():\n",
        "    for i in range(10):\n",
        "       if done():\n",
        "          break;\n",
        "       print(\"\\t\",i)\n",
        "\n",
        "def done():\n",
        "    if random.random() < 0.3:\n",
        "       return True\n",
        "    else:\n",
        "       return False\n",
        "\n",
        "def main():\n",
        "    print(\"I am going to count until 10 or until I feel like stopping, whichever comes first\")\n",
        "    chaotic_counting()\n",
        "    print(\"I am done !\")\n",
        "\n",
        "\n",
        "if __name__ == '__main__':\n",
        "    main()"
      ],
      "metadata": {
        "id": "K48iSUcpEIXV",
        "colab": {
          "base_uri": "https://localhost:8080/"
        },
        "outputId": "652e2d13-728e-4552-e62d-06ff0c05239c"
      },
      "execution_count": 47,
      "outputs": [
        {
          "output_type": "stream",
          "name": "stdout",
          "text": [
            "I am going to count until 10 or until I feel like stopping, whichever comes first\n",
            "\t 0\n",
            "\t 1\n",
            "\t 2\n",
            "\t 3\n",
            "\t 4\n",
            "\t 5\n",
            "I am done !\n"
          ]
        }
      ]
    },
    {
      "cell_type": "markdown",
      "source": [
        "#### **. 02_count_even**"
      ],
      "metadata": {
        "id": "6zlE-70QDES6"
      }
    },
    {
      "cell_type": "code",
      "source": [
        "def count_even(lst):\n",
        "    evenNum = []\n",
        "    count = 0\n",
        "    for i in lst:\n",
        "        if i % 2 == 0:\n",
        "           count += 1\n",
        "           evenNum.append(i)\n",
        "    return count, evenNum\n",
        "\n",
        "def main():\n",
        "    lst = []\n",
        "    while True:\n",
        "        num = input(\"\\nEnter Number & To Stop Press ENTER: \")\n",
        "        if num == \"\":\n",
        "            break\n",
        "        lst.append(int(num))\n",
        "    count,evenNum =  count_even(lst)\n",
        "    print(f\"\\nLsit OF Number {lst}\")\n",
        "    print(f\"\\nTotal Even Number In List : {count}\")\n",
        "    print(f\"\\nEven Number List : {evenNum}\")\n",
        "\n",
        "if __name__ == '__main__':\n",
        "    main()"
      ],
      "metadata": {
        "id": "7uccLREbEI4Q",
        "colab": {
          "base_uri": "https://localhost:8080/"
        },
        "outputId": "fb44a324-ebc4-4df2-fb51-87136d0baa70"
      },
      "execution_count": 57,
      "outputs": [
        {
          "output_type": "stream",
          "name": "stdout",
          "text": [
            "\n",
            "Enter Number & To Stop Press ENTER: 2\n",
            "\n",
            "Enter Number & To Stop Press ENTER: 24\n",
            "\n",
            "Enter Number & To Stop Press ENTER: 44\n",
            "\n",
            "Enter Number & To Stop Press ENTER: 4\n",
            "\n",
            "Enter Number & To Stop Press ENTER: 43\n",
            "\n",
            "Enter Number & To Stop Press ENTER: 4\n",
            "\n",
            "Enter Number & To Stop Press ENTER: 343\n",
            "\n",
            "Enter Number & To Stop Press ENTER: 23\n",
            "\n",
            "Enter Number & To Stop Press ENTER: 45\n",
            "\n",
            "Enter Number & To Stop Press ENTER: 56\n",
            "\n",
            "Enter Number & To Stop Press ENTER: 676\n",
            "\n",
            "Enter Number & To Stop Press ENTER: 87\n",
            "\n",
            "Enter Number & To Stop Press ENTER: 898\n",
            "\n",
            "Enter Number & To Stop Press ENTER: 90\n",
            "\n",
            "Enter Number & To Stop Press ENTER: 21\n",
            "\n",
            "Enter Number & To Stop Press ENTER: \n",
            "\n",
            "Lsit OF Number [2, 24, 44, 4, 43, 4, 343, 23, 45, 56, 676, 87, 898, 90, 21]\n",
            "\n",
            "Total Even Number In List : 9\n",
            "\n",
            "Even Number List : [2, 24, 44, 4, 4, 56, 676, 898, 90]\n"
          ]
        }
      ]
    },
    {
      "cell_type": "markdown",
      "source": [
        "#### **. 04_double**"
      ],
      "metadata": {
        "id": "sjIJ8Nv0DEJV"
      }
    },
    {
      "cell_type": "code",
      "source": [
        "def double(num):\n",
        "    double = num * 2\n",
        "    return double\n",
        "\n",
        "def main():\n",
        "    num = int(input(\"Enter A Number To Double : \"))\n",
        "    print(f\"\\nThe Double Of '{num}' is '{double(num)}'\")\n",
        "if __name__ == '__main__':\n",
        "    main()"
      ],
      "metadata": {
        "id": "b8kNlTIREJWs",
        "colab": {
          "base_uri": "https://localhost:8080/"
        },
        "outputId": "67a6ad29-2611-4822-c15f-c87a15a37d9e"
      },
      "execution_count": 61,
      "outputs": [
        {
          "output_type": "stream",
          "name": "stdout",
          "text": [
            "Enter A Number To Double : 9\n",
            "\n",
            "The Double Of '9' is '18'\n"
          ]
        }
      ]
    },
    {
      "cell_type": "markdown",
      "source": [
        "#### **. 05_get_name**"
      ],
      "metadata": {
        "id": "80sHdPJuDD-M"
      }
    },
    {
      "cell_type": "code",
      "source": [
        "def get_name():\n",
        "    name = input(\"Enter Your Name : \")\n",
        "    return name\n",
        "\n",
        "def main():\n",
        "    name = get_name()\n",
        "    print(f\"\\nNice To See You ! {name}\")\n",
        "\n",
        "\n",
        "if __name__ == '__main__':\n",
        "    main()"
      ],
      "metadata": {
        "id": "D2vGcxUYEJ0W",
        "colab": {
          "base_uri": "https://localhost:8080/"
        },
        "outputId": "f4261e01-ae6b-4e1c-ad70-56cb84905039"
      },
      "execution_count": 62,
      "outputs": [
        {
          "output_type": "stream",
          "name": "stdout",
          "text": [
            "Enter Your Name : Adil\n",
            "\n",
            "Nice To See You ! Adil\n"
          ]
        }
      ]
    },
    {
      "cell_type": "markdown",
      "source": [
        "#### **. 06_is_odd**"
      ],
      "metadata": {
        "id": "7nw0it9wDDz1"
      }
    },
    {
      "cell_type": "code",
      "source": [
        "\n",
        "def is_odd(num):\n",
        "    if num % 2 != 0:\n",
        "        return True\n",
        "    else:\n",
        "        return False\n",
        "\n",
        "def main():\n",
        "    num = int(input(\"Enter A Number : \"))\n",
        "    if is_odd(num):\n",
        "        print(f\"\\n'{num}' is Odd Number\")\n",
        "    else:\n",
        "        print(f\"\\n{num} is Not Odd Number\")\n",
        "if __name__ == '__main__':\n",
        "    main()"
      ],
      "metadata": {
        "id": "hsh9tW8GEKTx",
        "colab": {
          "base_uri": "https://localhost:8080/"
        },
        "outputId": "e27f7357-ce2f-4759-d387-8098b006f677"
      },
      "execution_count": 8,
      "outputs": [
        {
          "output_type": "stream",
          "name": "stdout",
          "text": [
            "Enter A Number : 33\n",
            "\n",
            "'33' is Odd Number\n"
          ]
        }
      ]
    },
    {
      "cell_type": "markdown",
      "source": [
        "#### **. 07_print_divisor**"
      ],
      "metadata": {
        "id": "ckyeSOYgDDqT"
      }
    },
    {
      "cell_type": "code",
      "source": [
        "def print_divisors(num):\n",
        "    divNum = []\n",
        "    for i in range(1,num+1):\n",
        "        if num % i == 0:\n",
        "            divNum.append(i)\n",
        "    return divNum\n",
        "def main():\n",
        "    num = int(input(\"Enter A Number : \"))\n",
        "    print(f\"\\nThe Divisors Of '{num}' : {print_divisors(num)}\")\n",
        "\n",
        "\n",
        "if __name__ == '__main__':\n",
        "    main()"
      ],
      "metadata": {
        "id": "a4hLdhyNEKv1",
        "colab": {
          "base_uri": "https://localhost:8080/"
        },
        "outputId": "dc0b4e20-bca6-41ca-9da3-5ac363ac203f"
      },
      "execution_count": 7,
      "outputs": [
        {
          "output_type": "stream",
          "name": "stdout",
          "text": [
            "Enter A Number : 132\n",
            "\n",
            "The Divisors Of '132' : [1, 2, 3, 4, 6, 11, 12, 22, 33, 44, 66, 132]\n"
          ]
        }
      ]
    },
    {
      "cell_type": "markdown",
      "source": [
        "#### **. 08_print_multiple**"
      ],
      "metadata": {
        "id": "v9iBHKzoDDf5"
      }
    },
    {
      "cell_type": "code",
      "source": [
        "def print_multiple(message, repeats):\n",
        "    for i in range(repeats):\n",
        "        print(message)\n",
        "\n",
        "def main():\n",
        "    mes = input(\"Enter a Message : \")\n",
        "    repNum = int(input(\"\\nEnter Number To Repate Message : \"))\n",
        "    print_multiple(mes, repNum)\n",
        "\n",
        "if __name__ == '__main__':\n",
        "    main()"
      ],
      "metadata": {
        "id": "eBRIgLI2ELH7",
        "colab": {
          "base_uri": "https://localhost:8080/"
        },
        "outputId": "953aebf9-46a4-47ae-bf01-d6e70316f5e0"
      },
      "execution_count": 11,
      "outputs": [
        {
          "output_type": "stream",
          "name": "stdout",
          "text": [
            "Enter a Message : Pakistan Zindabad\n",
            "\n",
            "Enter Number To Repate Message : 20\n",
            "Pakistan Zindabad\n",
            "Pakistan Zindabad\n",
            "Pakistan Zindabad\n",
            "Pakistan Zindabad\n",
            "Pakistan Zindabad\n",
            "Pakistan Zindabad\n",
            "Pakistan Zindabad\n",
            "Pakistan Zindabad\n",
            "Pakistan Zindabad\n",
            "Pakistan Zindabad\n",
            "Pakistan Zindabad\n",
            "Pakistan Zindabad\n",
            "Pakistan Zindabad\n",
            "Pakistan Zindabad\n",
            "Pakistan Zindabad\n",
            "Pakistan Zindabad\n",
            "Pakistan Zindabad\n",
            "Pakistan Zindabad\n",
            "Pakistan Zindabad\n",
            "Pakistan Zindabad\n"
          ]
        }
      ]
    },
    {
      "cell_type": "markdown",
      "source": [
        "#### **. 09_sentence_generator**"
      ],
      "metadata": {
        "id": "pRAV7mpGVChM"
      }
    },
    {
      "cell_type": "code",
      "source": [
        "def make_sentence(word, part_of_speech):\n",
        "    if part_of_speech == 1:\n",
        "        return f\"\\n\\tMy best friend just gifted me a {word}, and I love it !\"\n",
        "    elif part_of_speech == 2:\n",
        "        return f\"\\n\\tIf you ever need a laugh, just watch me try to {word} !\"\n",
        "    elif part_of_speech == 3:\n",
        "        return f\"\\n\\tThat movie was so {word}, I couldn't stop watching!\"\n",
        "    else:\n",
        "        return \"\\n\\tInvalid Input ! Can't made Sentences.\"\n",
        "def main():\n",
        "    word = input(\"Enter a Word (Noun,Verb Or Adjective) : \")\n",
        "    part_of_speech = int(input(\"Is This is Noun ,Verb Or Adjective \\n Noun = 1  \\n Verb = 2 \\n Adjective = 3 : \"))\n",
        "    print(make_sentence(word, part_of_speech))\n",
        "if __name__ == '__main__':\n",
        "    main()"
      ],
      "metadata": {
        "colab": {
          "base_uri": "https://localhost:8080/"
        },
        "id": "uNui8KcJVJM5",
        "outputId": "63ccd0fb-5341-4870-b63a-58ba33ce92aa"
      },
      "execution_count": 21,
      "outputs": [
        {
          "output_type": "stream",
          "name": "stdout",
          "text": [
            "Enter a Word (Noun,Verb Or Adjective) : Range Rover Sport SUV\n",
            "Is This is Noun ,Verb Or Adjective \n",
            " Noun = 1  \n",
            " Verb = 2 \n",
            " Adjective = 3 : 1\n",
            "\n",
            "\tMy best friend just gifted me a Range Rover Sport SUV, and I love it !\n"
          ]
        }
      ]
    },
    {
      "cell_type": "markdown",
      "source": [
        "#### **. 10_print_ones_digit**"
      ],
      "metadata": {
        "id": "ltqDa2HriNqa"
      }
    },
    {
      "cell_type": "code",
      "source": [
        "def print_ones_digit(num):\n",
        "    print(\"\\nThe Once Digit :\",num % 10)\n",
        "\n",
        "def main():\n",
        "    num = int(input(\"Enter A Number : \"))\n",
        "    print_ones_digit(num)\n",
        "if __name__ == '__main__':\n",
        "    main()"
      ],
      "metadata": {
        "colab": {
          "base_uri": "https://localhost:8080/"
        },
        "id": "H3ZvisvLiYvs",
        "outputId": "1ace010b-938f-480f-d527-2f50018ec7a9"
      },
      "execution_count": 27,
      "outputs": [
        {
          "output_type": "stream",
          "name": "stdout",
          "text": [
            "Enter A Number : 24\n",
            "\n",
            "The Once Digit : 4\n"
          ]
        }
      ]
    }
  ]
}