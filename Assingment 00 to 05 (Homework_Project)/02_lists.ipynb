{
  "cells": [
    {
      "cell_type": "markdown",
      "metadata": {
        "id": "QO8D_bYSKYOu"
      },
      "source": [
        "# **02_lists :  [Colab link](https://colab.research.google.com/drive/1sGrXgKLX-H3gzoTu8NW7UjKfcCwSJhDK)**  "
      ]
    },
    {
      "cell_type": "markdown",
      "metadata": {
        "id": "9QKMXCj5njzq"
      },
      "source": [
        "#### **. 01_add_many_number**"
      ]
    },
    {
      "cell_type": "code",
      "execution_count": 2,
      "metadata": {
        "colab": {
          "base_uri": "https://localhost:8080/"
        },
        "id": "TnOZYm3noerm",
        "outputId": "97bfc43a-6f55-4f5a-d488-65046aba6b4f"
      },
      "outputs": [
        {
          "name": "stdout",
          "output_type": "stream",
          "text": [
            "\n",
            "The List Of Number Is : [29, 33, 4, 48, 45, 13, 20, 26, 46, 26, 38, 36, 26, 48, 8, 28, 4, 10, 32, 10]\n",
            "\n",
            "The Total OF List is : 530\n"
          ]
        }
      ],
      "source": [
        "import random\n",
        "def generateList():\n",
        "    numList =[]\n",
        "    while True:\n",
        "       num = int(input(\"\\nHow Many Numbers You Like To Add (e.g 20,10,5) : \"))\n",
        "       if num >= 2:\n",
        "          break\n",
        "       else:\n",
        "          print(\"\\nPlease Enter Aleast 2 Number To Sum\")\n",
        "    for i in range(num):\n",
        "        randomNum = random.randint (1,50)\n",
        "        numList.append(randomNum)\n",
        "    return numList\n",
        "\n",
        "def main():\n",
        "          listNum = generateList()\n",
        "          print(f\"\\nThe List Of Number Is : {listNum}\")\n",
        "          sum = 0\n",
        "          for i in listNum:\n",
        "              sum += i\n",
        "          print(f\"\\nThe Total OF List is : {sum}\")\n",
        "\n",
        "if __name__ == '__main__':\n",
        "    main()"
      ]
    },
    {
      "cell_type": "markdown",
      "metadata": {
        "id": "cDpoYPJGn-he"
      },
      "source": [
        "#### **. 02_double_list**"
      ]
    },
    {
      "cell_type": "code",
      "execution_count": null,
      "metadata": {
        "colab": {
          "base_uri": "https://localhost:8080/"
        },
        "id": "VhrCh0x_ofTD",
        "outputId": "76348c4d-ddac-46f4-8bf4-7c4ab18a856c"
      },
      "outputs": [
        {
          "name": "stdout",
          "output_type": "stream",
          "text": [
            "Enter a number: 2\n",
            "[2, 4, 8, 16, 32, 64]\n"
          ]
        }
      ],
      "source": [
        "def double_it(number):\n",
        "  double = []\n",
        "  i = 1\n",
        "  while True:\n",
        "        value = number ** i\n",
        "        i+=1\n",
        "        if  value >= 100:\n",
        "          break\n",
        "        double.append(value)\n",
        "  return double\n",
        "\n",
        "\n",
        "def main():\n",
        "  Userinput = int(input(\"Enter a number: \"))\n",
        "  print(double_it(Userinput))\n",
        "\n",
        "if __name__ == '__main__':\n",
        "    main()\n"
      ]
    },
    {
      "cell_type": "markdown",
      "metadata": {
        "id": "AzpXXJF2n-Vh"
      },
      "source": [
        "#### **. 03_erase_canvas**"
      ]
    },
    {
      "cell_type": "code",
      "execution_count": 22,
      "metadata": {
        "id": "4X4kGPxLof7T"
      },
      "outputs": [],
      "source": [
        "import tkinter as t\n",
        "import random\n",
        "colors =[\"red\",\"green\",\"blue\",\"yellow\",\"purple\",\"orange\",\"white\",\"pink\",\"brown\",\"gray\"]\n",
        "random_Color = random.choice(colors)\n",
        "\n",
        "def create_grid(canvas, rows, cols, cellsize):\n",
        "\tfor i in range(rows):\n",
        "\t\tfor j in range(cols):\n",
        "\t\t\tx1 = j * cellsize\n",
        "\t\t\ty1 = i * cellsize\n",
        "\t\t\tx2 = x1 + cellsize\n",
        "\t\t\ty2 = y1 + cellsize\n",
        "\t\t\tcanvas.create_rectangle(x1, y1, x2, y2, fill=random_Color, outline=\"black\", tag=\"cell\")\n",
        "def on_click(event):\n",
        "\toverlapping_items = canvas.find_overlapping(\n",
        "\t\tevent.x - eraser_size // 2, event.y - eraser_size // 2,\n",
        "\t\tevent.x + eraser_size // 2, event.y + eraser_size // 2\n",
        "\t)\n",
        "\tfor item in overlapping_items:\n",
        "\t\tcanvas.itemconfig(item, fill=\"black\")\n",
        "\n",
        "def main():\n",
        "\tglobal canvas, eraser_size\n",
        "\troot = t.Tk()\n",
        "\tcanvas = t.Canvas(root, width=500, height=500)\n",
        "\tcanvas.pack()\n",
        "\teraser_size = 20\n",
        "\tcanvas.bind(\"<Button-1>\", on_click)\n",
        "\tcreate_grid(canvas, rows=10, cols=10, cellsize=50)\n",
        "\troot.mainloop()\n",
        "\n",
        "if __name__ == \"__main__\":\n",
        "\tmain()"
      ]
    },
    {
      "cell_type": "markdown",
      "metadata": {
        "id": "C-2DtA_On-Cj"
      },
      "source": [
        "#### **. 04_flowing_with_data_structures**"
      ]
    },
    {
      "cell_type": "code",
      "execution_count": 1,
      "metadata": {
        "colab": {
          "base_uri": "https://localhost:8080/"
        },
        "id": "QWW6b49Wog5l",
        "outputId": "cfdbcfae-9cf3-411c-87f0-5218c66653e9"
      },
      "outputs": [
        {
          "name": "stdout",
          "output_type": "stream",
          "text": [
            "\n",
            "The List Before Copy : []\n",
            "\n",
            "The List After Copy : ['Good Boy ', 'Good Boy ', 'Good Boy ', 'Good Boy ', 'Good Boy ']\n"
          ]
        }
      ],
      "source": [
        "def add_three_copies(data,timesCopy,list):\n",
        "\n",
        "    for i in range(timesCopy):\n",
        "        list.append(data)\n",
        "    return list\n",
        "\n",
        "def main():\n",
        "        dataList = []\n",
        "        copyElement = input(\"Enter Any Thing To Copy : \")\n",
        "        copyNum = int(input(\"Enter Number To Copy N Times: \"))\n",
        "        if copyElement == \"\":\n",
        "            print(\"\\nPleace Enter Something !\")\n",
        "        else:\n",
        "            print(f\"\\nThe List Before Copy : {dataList}\")\n",
        "            add_three_copies(copyElement,copyNum,dataList)\n",
        "            print(f\"\\nThe List After Copy : {dataList}\")\n",
        "\n",
        "if __name__ == '__main__':\n",
        "    main()"
      ]
    },
    {
      "cell_type": "markdown",
      "metadata": {
        "id": "fpP4GEoXn9zT"
      },
      "source": [
        "#### **. 05_get_first_element**"
      ]
    },
    {
      "cell_type": "code",
      "execution_count": null,
      "metadata": {
        "colab": {
          "base_uri": "https://localhost:8080/"
        },
        "id": "M0fdvk6Iohej",
        "outputId": "a156ff60-085a-40c6-c5d6-a28192b2e80d"
      },
      "outputs": [
        {
          "name": "stdout",
          "output_type": "stream",
          "text": [
            "For Exit ==> Just Enter With Empty Input\n",
            "\n",
            "Enter Anything To Add In List : apple \n",
            "\n",
            "Enter Anything To Add In List : mango \n",
            "\n",
            "Enter Anything To Add In List : orange\n",
            "\n",
            "Enter Anything To Add In List : \n",
            "\n",
            "The List Is : ['apple ', 'mango ', 'orange']\n",
            "\n",
            "The First Element Is : apple \n"
          ]
        }
      ],
      "source": [
        "def get_first_element(lst):\n",
        "      lstItem = lst[0]\n",
        "      return lstItem\n",
        "\n",
        "def main():\n",
        "    print(\"For Exit ==> Just Enter With Empty Input\")\n",
        "    item = input(\"\\nEnter Anything To Add In List : \")\n",
        "    itemList = []\n",
        "    while True:\n",
        "        if item == \"\":\n",
        "            print(f\"\\nThe List Is : {itemList}\")\n",
        "            break\n",
        "        else:\n",
        "            itemList.append(item)\n",
        "            item = input(\"\\nEnter Anything To Add In List : \")\n",
        "    item = get_first_element(itemList)\n",
        "    print(f\"\\nThe First Element Is : {item}\")\n",
        "if __name__ == '__main__':\n",
        "    main()"
      ]
    },
    {
      "cell_type": "markdown",
      "metadata": {
        "id": "wfwX1yzCn9bq"
      },
      "source": [
        "#### **. 06_get_last_element**"
      ]
    },
    {
      "cell_type": "code",
      "execution_count": null,
      "metadata": {
        "colab": {
          "base_uri": "https://localhost:8080/"
        },
        "id": "x6Hchd6YoiEo",
        "outputId": "f6c498cc-3f6d-4351-81a5-d2fe272ff7de"
      },
      "outputs": [
        {
          "name": "stdout",
          "output_type": "stream",
          "text": [
            "For Exit ==> Just Enter With Empty Input\n",
            "\n",
            "Enter Anything To Add In List : book\n",
            "\n",
            "Enter Anything To Add In List : chair\n",
            "\n",
            "Enter Anything To Add In List : table\n",
            "\n",
            "Enter Anything To Add In List : pen \n",
            "\n",
            "Enter Anything To Add In List : ink\n",
            "\n",
            "Enter Anything To Add In List : \n",
            "\n",
            "The List Is : ['book', 'chair', 'table', 'pen ', 'ink']\n",
            "\n",
            "The last Element Is : ink\n"
          ]
        }
      ],
      "source": [
        "def get_last_element(lst):\n",
        "      lstItem = lst[len(lst)-1]\n",
        "      return lstItem\n",
        "\n",
        "def main():\n",
        "    print(\"For Exit ==> Just Enter With Empty Input\")\n",
        "    item = input(\"\\nEnter Anything To Add In List : \")\n",
        "    itemList = []\n",
        "    while True:\n",
        "        if item == \"\":\n",
        "            print(f\"\\nThe List Is : {itemList}\")\n",
        "            break\n",
        "        else:\n",
        "            itemList.append(item)\n",
        "            item = input(\"\\nEnter Anything To Add In List : \")\n",
        "    item = get_last_element(itemList)\n",
        "    print(f\"\\nThe last Element Is : {item}\")\n",
        "if __name__ == '__main__':\n",
        "    main()"
      ]
    },
    {
      "cell_type": "markdown",
      "metadata": {
        "id": "hilNJNoKCWix"
      },
      "source": [
        "#### **. 07_get_list**"
      ]
    },
    {
      "cell_type": "code",
      "execution_count": null,
      "metadata": {
        "colab": {
          "base_uri": "https://localhost:8080/"
        },
        "id": "rbJmX4NvCYLb",
        "outputId": "6c8c3769-b9bd-435e-ca25-55e16dd1da81"
      },
      "outputs": [
        {
          "name": "stdout",
          "output_type": "stream",
          "text": [
            "For Exit ==> Just Enter With Empty Input\n",
            "\n",
            "Enter Anything To Add In List : fan\n",
            "\n",
            "Enter Anything To Add In List : mirror\n",
            "\n",
            "Enter Anything To Add In List : clock\n",
            "\n",
            "Enter Anything To Add In List : mobile\n",
            "\n",
            "Enter Anything To Add In List : \n",
            "\n",
            "The List Is : ['fan', 'mirror', 'clock', 'mobile']\n"
          ]
        }
      ],
      "source": [
        "def main():\n",
        "    print(\"For Exit ==> Just Enter With Empty Input\")\n",
        "    item = input(\"\\nEnter Anything To Add In List : \")\n",
        "    itemList = []\n",
        "    while True:\n",
        "        if item == \"\":\n",
        "            print(f\"\\nThe List Is : {itemList}\")\n",
        "            break\n",
        "        else:\n",
        "            itemList.append(item)\n",
        "            item = input(\"\\nEnter Anything To Add In List : \")\n",
        "if __name__ == '__main__':\n",
        "    main()"
      ]
    },
    {
      "cell_type": "markdown",
      "metadata": {
        "id": "2-zgu502PmxH"
      },
      "source": [
        "#### **. 08_shorten**"
      ]
    },
    {
      "cell_type": "code",
      "execution_count": null,
      "metadata": {
        "colab": {
          "base_uri": "https://localhost:8080/"
        },
        "id": "UiBQIcnvPvEU",
        "outputId": "7e7adbeb-a80d-42f5-c839-4b396d51bc66"
      },
      "outputs": [
        {
          "name": "stdout",
          "output_type": "stream",
          "text": [
            "For Exit ==> Just Enter With Empty Input\n",
            "\n",
            "Enter Anything To Add In List : cat\n",
            "\n",
            "Enter Anything To Add In List : cow\n",
            "\n",
            "Enter Anything To Add In List : lion \n",
            "\n",
            "Enter Anything To Add In List : tiger\n",
            "\n",
            "Enter Anything To Add In List : snake \n",
            "\n",
            "Enter Anything To Add In List : parrot\n",
            "\n",
            "Enter Anything To Add In List : duck\n",
            "\n",
            "Enter Anything To Add In List : horse\n",
            "\n",
            "Enter Anything To Add In List : goat\n",
            "\n",
            "Enter Anything To Add In List : \n",
            "\n",
            "The List Is : ['cat', 'cow', 'lion ', 'tiger', 'snake ', 'parrot', 'duck', 'horse', 'goat']\n",
            "\n",
            "The Remove Item From List Is : goat\n",
            "\n",
            "The Remove Item From List Is : horse\n",
            "\n",
            "The Remove Item From List Is : duck\n",
            "\n",
            "The Remove Item From List Is : parrot\n",
            "\n",
            "The Remove Item From List Is : snake \n",
            "\n",
            "The Remove Item From List Is : tiger\n",
            "\n",
            "The Final List Is : ['cat', 'cow', 'lion ']\n"
          ]
        }
      ],
      "source": [
        "MAX_LENGTH = 3\n",
        "def shorten(lst):\n",
        "    print(f\"\\nThe List Is : {lst}\")\n",
        "    while True:\n",
        "          if len(lst) > MAX_LENGTH:\n",
        "            removeItem = lst.pop()\n",
        "            print(f\"\\nThe Remove Item From List Is : {removeItem}\")\n",
        "            if len(lst) == MAX_LENGTH:\n",
        "               break\n",
        "          else:\n",
        "              break\n",
        "\n",
        "    print(f\"\\nThe Final List Is : {lst}\")\n",
        "def main():\n",
        "     print(\"For Exit ==> Just Enter With Empty Input\")\n",
        "     item = input(\"\\nEnter Anything To Add In List : \")\n",
        "     itemList = []\n",
        "     while True:\n",
        "        if item == \"\":\n",
        "            break\n",
        "        else:\n",
        "            itemList.append(item)\n",
        "            item = input(\"\\nEnter Anything To Add In List : \")\n",
        "     shorten(itemList)\n",
        "\n",
        "if __name__ == '__main__':\n",
        "    main()"
      ]
    }
  ],
  "metadata": {
    "colab": {
      "provenance": []
    },
    "kernelspec": {
      "display_name": "Python 3",
      "name": "python3"
    },
    "language_info": {
      "codemirror_mode": {
        "name": "ipython",
        "version": 3
      },
      "file_extension": ".py",
      "mimetype": "text/x-python",
      "name": "python",
      "nbconvert_exporter": "python",
      "pygments_lexer": "ipython3",
      "version": "3.13.2"
    }
  },
  "nbformat": 4,
  "nbformat_minor": 0
}
