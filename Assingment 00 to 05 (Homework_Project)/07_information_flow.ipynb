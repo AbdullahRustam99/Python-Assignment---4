{
  "nbformat": 4,
  "nbformat_minor": 0,
  "metadata": {
    "colab": {
      "provenance": []
    },
    "kernelspec": {
      "name": "python3",
      "display_name": "Python 3"
    },
    "language_info": {
      "name": "python"
    }
  },
  "cells": [
    {
      "cell_type": "markdown",
      "source": [
        "# **07_information_flow :  [Colab link](https://colab.research.google.com/drive/1w8WA5JmqYwQGJSFlsbY-3P6OWvZUolXW)**  "
      ],
      "metadata": {
        "id": "QO8D_bYSKYOu"
      }
    },
    {
      "cell_type": "markdown",
      "source": [
        "#### **. 00_choosing_returns**"
      ],
      "metadata": {
        "id": "9QKMXCj5njzq"
      }
    },
    {
      "cell_type": "code",
      "source": [
        "ADULT_AGE = 18\n",
        "\n",
        "def is_adult(age):\n",
        "    if ADULT_AGE <= age:\n",
        "        return True\n",
        "    else:\n",
        "        return False\n",
        "\n",
        "def main():\n",
        "    age = int(input(\"Enter Your Age : \"))\n",
        "    if is_adult(age):\n",
        "        print(\"\\n\\tYou Are An Adult\")\n",
        "    else:\n",
        "        print(\"\\n\\tYou Are Not Adult\")\n",
        "\n",
        "if __name__ == '__main__':\n",
        "    main()"
      ],
      "metadata": {
        "colab": {
          "base_uri": "https://localhost:8080/"
        },
        "id": "TnOZYm3noerm",
        "outputId": "decb51bc-2e7c-40d8-9940-d045be069fe3"
      },
      "execution_count": 3,
      "outputs": [
        {
          "output_type": "stream",
          "name": "stdout",
          "text": [
            "Enter Your Age : 18\n",
            "\n",
            "\tYou Are An Adult\n"
          ]
        }
      ]
    },
    {
      "cell_type": "markdown",
      "source": [
        "#### **. 01_greetings**"
      ],
      "metadata": {
        "id": "cDpoYPJGn-he"
      }
    },
    {
      "cell_type": "code",
      "source": [
        "def greet(name):\n",
        "    return f\"Greeting, {name} !\"\n",
        "\n",
        "def main():\n",
        "    name = input(\"What Is Your Name? : \")\n",
        "    print(greet(name))\n",
        "if __name__ == '__main__':\n",
        "    main()"
      ],
      "metadata": {
        "colab": {
          "base_uri": "https://localhost:8080/"
        },
        "id": "VhrCh0x_ofTD",
        "outputId": "44dfbdbf-0893-4863-997a-de5e1813e76e"
      },
      "execution_count": 5,
      "outputs": [
        {
          "output_type": "stream",
          "name": "stdout",
          "text": [
            "What Is Your Name? : Abdullah\n",
            "Greeting, Abdullah !\n"
          ]
        }
      ]
    },
    {
      "cell_type": "markdown",
      "source": [
        "#### **. 02_in_range**"
      ],
      "metadata": {
        "id": "AzpXXJF2n-Vh"
      }
    },
    {
      "cell_type": "code",
      "source": [
        "def in_range(n, low, high):\n",
        "    if n >= low and n <= high:\n",
        "        return True\n",
        "    else:\n",
        "       return False\n",
        "def main():\n",
        "    LOW = 1\n",
        "    HIGHT = 20\n",
        "    print(in_range(5,LOW,HIGHT))\n",
        "    print(in_range(15,LOW,HIGHT))\n",
        "    print(in_range(90,LOW,HIGHT))\n",
        "    print(in_range(45,LOW,HIGHT))\n",
        "    print(in_range(19,LOW,HIGHT))\n",
        "\n",
        "if __name__ == '__main__':\n",
        "    main()"
      ],
      "metadata": {
        "colab": {
          "base_uri": "https://localhost:8080/"
        },
        "id": "4X4kGPxLof7T",
        "outputId": "cf7dabfa-ae10-42ea-da5b-c1b8e34defa8"
      },
      "execution_count": 7,
      "outputs": [
        {
          "output_type": "stream",
          "name": "stdout",
          "text": [
            "True\n",
            "True\n",
            "False\n",
            "False\n",
            "True\n"
          ]
        }
      ]
    },
    {
      "cell_type": "markdown",
      "source": [
        "#### **. 03_in_stock**"
      ],
      "metadata": {
        "id": "C-2DtA_On-Cj"
      }
    },
    {
      "cell_type": "code",
      "source": [
        "MIN_HIGHT_m = 50\n",
        "def num_in_stock(fruit):\n",
        "    if fruit.lower() == \"mango\":\n",
        "        return 20\n",
        "    elif fruit.lower() == \"apple\":\n",
        "        return 100\n",
        "    elif fruit.lower() == \"melon\":\n",
        "        return 250\n",
        "    elif fruit.lower() == \"orange\":\n",
        "        return 90\n",
        "    else:\n",
        "        return 0\n",
        "def main():\n",
        "    fruit = input(\"Enter A Fruit : \")\n",
        "    if num_in_stock(fruit) == 0:\n",
        "       print(\"\\nThis Fruit Is Not In Stock.\")\n",
        "    else:\n",
        "        print(f\"\\nThis Fruit Is In Stock! The Quantity Is : {num_in_stock(fruit)}\")\n",
        "\n",
        "if __name__ == '__main__':\n",
        "    main()"
      ],
      "metadata": {
        "id": "QWW6b49Wog5l",
        "colab": {
          "base_uri": "https://localhost:8080/"
        },
        "outputId": "146176ae-3502-4a81-ffee-b2ab98d7226e"
      },
      "execution_count": 15,
      "outputs": [
        {
          "output_type": "stream",
          "name": "stdout",
          "text": [
            "Enter A Fruit : MAngo\n",
            "\n",
            "This Fruit Is In Stock! The Quantity Is : 20\n"
          ]
        }
      ]
    },
    {
      "cell_type": "markdown",
      "source": [
        "#### **. 04_multiple_returns**"
      ],
      "metadata": {
        "id": "fpP4GEoXn9zT"
      }
    },
    {
      "cell_type": "code",
      "source": [
        "def get_user_data():\n",
        "  first_name = input(\"What is your first name? : \")\n",
        "  last_name = input(\"What is your last name? : \")\n",
        "  email = input(\"What is your email address? : \")\n",
        "  return first_name, last_name, email\n",
        "def main():\n",
        "    data = get_user_data()\n",
        "    print(\"\\n\\tUser Data\")\n",
        "    print(f\"Received the following user data : '{data[0]}' , '{data[1]}' , '{data[2]}'\")\n",
        "\n",
        "if __name__ == '__main__':\n",
        "    main()"
      ],
      "metadata": {
        "id": "M0fdvk6Iohej",
        "colab": {
          "base_uri": "https://localhost:8080/"
        },
        "outputId": "1b0a079e-e3dc-4680-e9a8-cdfc9cb8225a"
      },
      "execution_count": 19,
      "outputs": [
        {
          "output_type": "stream",
          "name": "stdout",
          "text": [
            "What is your first name? : Adil\n",
            "What is your last name? : Boss\n",
            "What is your email address? : abc@gmial.com\n",
            "\n",
            "\tUser Data\n",
            "Received the following user data : 'Adil' , 'Boss' , 'abc@gmial.com'\n"
          ]
        }
      ]
    },
    {
      "cell_type": "markdown",
      "source": [
        "#### **. 05_subtract_7**"
      ],
      "metadata": {
        "id": "uLFRayVytALK"
      }
    },
    {
      "cell_type": "code",
      "source": [
        "def subtract_seven(num):\n",
        "    num -= 7\n",
        "    return num\n",
        "\n",
        "def main():\n",
        "\n",
        "    num = int(input(\"Enter A Number : \"))\n",
        "    result = subtract_seven(num)\n",
        "    print(f\"\\nThe Result After Substrate 7 : {result}\")\n",
        "\n",
        "\n",
        "if __name__ == '__main__':\n",
        "    main()"
      ],
      "metadata": {
        "colab": {
          "base_uri": "https://localhost:8080/"
        },
        "id": "Ftsk8xabtA9V",
        "outputId": "6be10761-8b42-4913-b427-120536331558"
      },
      "execution_count": 24,
      "outputs": [
        {
          "output_type": "stream",
          "name": "stdout",
          "text": [
            "Enter A Number : 7\n",
            "\n",
            "The Result After Substrate 7 : 0\n"
          ]
        }
      ]
    }
  ]
}